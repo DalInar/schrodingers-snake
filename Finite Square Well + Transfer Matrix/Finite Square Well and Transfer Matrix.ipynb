{
 "cells": [
  {
   "cell_type": "markdown",
   "metadata": {},
   "source": [
    "# Physics 453: Finite Square Well and Transfer Matrix"
   ]
  },
  {
   "cell_type": "markdown",
   "metadata": {},
   "source": [
    "### Finite Square Well, Fourier Transform, and Expectation Values"
   ]
  },
  {
   "cell_type": "markdown",
   "metadata": {},
   "source": [
    "In the double finite well notebook, we learned about how to use the Shooting Method to numerically find energy eigenstates for a double finite square well.  In the infinite square well notebook, there was an example of how to perform Fourier transforms in Python.  Now we are going to combine these skills to calculate some observables."
   ]
  },
  {
   "cell_type": "markdown",
   "metadata": {},
   "source": [
    "Use the shooting method to find the two lowest energy eigenstates of a (single) finite square well with a depth of $V_0=-2$ and a width of $a=3$.  (Feel free to draw from the in class code.) Once you have the wavefunctions for the ground state and the first excited state, plot them. (You just need a static plot, nothing to animate here.)  \n",
    "\n",
    "Then calculate $\\Delta x$ and $\\Delta p$ numerically, where\n",
    "$$\\Delta \\hat{O} = \\sqrt{<\\hat{O}^2>-<\\hat{O}>^2}$$\n",
    "Perform the calculation of $\\Delta p$ by first fourier transforming the wavefunctions into momentum space.  Is the uncertainty principle obeyed for each state?"
   ]
  },
  {
   "cell_type": "markdown",
   "metadata": {},
   "source": [
    "Remember that our work is done in a discrete space, so integrals become sums.  For example, in real space\n",
    "$$ <\\hat{x}>=\\int \\psi^*(x)x \\psi(x)dx \\approx \\sum_i \\psi^*(x_i)x_i\\psi(x_i)\\delta x$$"
   ]
  },
  {
   "cell_type": "markdown",
   "metadata": {},
   "source": [
    "#### Make sure you use comments and markdown cells to explain/document your code!  In all cases, assume $\\hbar=m=1$."
   ]
  },
  {
   "cell_type": "code",
   "execution_count": 1,
   "metadata": {
    "collapsed": true
   },
   "outputs": [],
   "source": [
    "%matplotlib notebook\n",
    "import matplotlib\n",
    "import matplotlib.pyplot as plt \n",
    "from matplotlib.widgets import Slider, Button, RadioButtons\n",
    "import numpy\n",
    "import math"
   ]
  },
  {
   "cell_type": "markdown",
   "metadata": {},
   "source": [
    "### CHALLENGE PROBLEM (EXTRA CREDIT)"
   ]
  },
  {
   "cell_type": "markdown",
   "metadata": {},
   "source": [
    "In the written part of this homework, you learned how to calculate the transmission through a single finite, rectangular barrier by solving a system of equations derived from boundary conditions. A more advanced (and much more powerful) way of performing these sorts of calculations is the *transfer matrix*. Use the references below to learn about this method, and then use it to numerically compute the transmission coefficient as a function of energy for a *double* finite, rectangular barrier.  Assume the barriers have a height of $V_0=2$, a width of $a=1$, and are separated by $b=3$.  Make a plot of the transmission coefficient versus energy, and interpret your findings.\n",
    "\n",
    "Hint: The transfer matrix consists of a discontinuity matrix and a propagation matrix.  Both depend on momentum, so you'll probably want to write functions that take the momentum as an argument and return the needed matrices.\n",
    "\n",
    "For some help understanding the transfer matrix method, check out this [paper](https://facultystaff.richmond.edu/~ggilfoyl/qm/alphadecaypaper.pdf), and also take a look at Problem 2.53 in Griffiths.\n",
    "\n",
    "Also, here is some code demonstrating how you use [matrices](https://docs.scipy.org/doc/numpy/reference/generated/numpy.matrix.html) in Python with NumPy."
   ]
  },
  {
   "cell_type": "code",
   "execution_count": 2,
   "metadata": {
    "collapsed": false
   },
   "outputs": [
    {
     "name": "stdout",
     "output_type": "stream",
     "text": [
      "M_test=\n",
      " [[ 2 -5]\n",
      " [ 1 -1]]\n",
      "x_test=\n",
      " [[ 1]\n",
      " [-1]]\n",
      "M_test*x_test=\n",
      " [[7]\n",
      " [2]]\n",
      "x_test.T*M_test*x_test=\n",
      " [[5]]\n"
     ]
    }
   ],
   "source": [
    "M_test = numpy.matrix( [[2,2], [1,-1]] )    #Creating a matrix, be careful with brackets!\n",
    "x_test = numpy.matrix( [[1], [-1]] )        #Vectors are also represented with matrices, they just have only one row or column\n",
    "M_test[0,1]=-5          #Accessing/changing particular elements of a matrix\n",
    "print(\"M_test=\\n\",M_test)\n",
    "print(\"x_test=\\n\",x_test)\n",
    "print(\"M_test*x_test=\\n\",M_test*x_test)\n",
    "print(\"x_test.T*M_test*x_test=\\n\",x_test.T*M_test*x_test)  #x_test.T = the transpose of x_test, gives us a row vector"
   ]
  },
  {
   "cell_type": "code",
   "execution_count": null,
   "metadata": {
    "collapsed": true
   },
   "outputs": [],
   "source": []
  }
 ],
 "metadata": {
  "anaconda-cloud": {},
  "kernelspec": {
   "display_name": "Python 3",
   "language": "python",
   "name": "python3"
  },
  "language_info": {
   "codemirror_mode": {
    "name": "ipython",
    "version": 3
   },
   "file_extension": ".py",
   "mimetype": "text/x-python",
   "name": "python",
   "nbconvert_exporter": "python",
   "pygments_lexer": "ipython3",
   "version": "3.4.3"
  }
 },
 "nbformat": 4,
 "nbformat_minor": 0
}

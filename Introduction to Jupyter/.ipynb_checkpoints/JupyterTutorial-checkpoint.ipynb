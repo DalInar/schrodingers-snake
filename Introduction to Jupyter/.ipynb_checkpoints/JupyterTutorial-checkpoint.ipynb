{
 "cells": [
  {
   "cell_type": "markdown",
   "metadata": {},
   "source": [
    "## Phys 453: Quantum Mechanics - Computational Assignment: Introduction to Jupyter"
   ]
  },
  {
   "cell_type": "markdown",
   "metadata": {},
   "source": [
    "Hello! Congratulations on installing Jupyter and getting the tutorial up and running!  This notebook will walk you through some of the basics:\n",
    "1. Writing text and equations (like $E=mc^2$) in a Jupyter notebook\n",
    "* Basic Python code and importing libraries (NumPy and MatPlotLib)\n",
    "* Doing some math and plotting the results\n",
    "\n",
    "Note: Another great tutorial to check out is this series by J.R. Johansson\n",
    "https://nbviewer.jupyter.org/github/jrjohansson/scientific-python-lectures/tree/master/"
   ]
  },
  {
   "cell_type": "markdown",
   "metadata": {},
   "source": [
    "### Writing text and equations (Markdown)"
   ]
  },
  {
   "cell_type": "markdown",
   "metadata": {},
   "source": [
    "One of the great things about Jupyter is that you can have code, text, and equations in the same document.  For example, here's the Schrodinger equation: \n",
    "$$ i\\hbar\\frac{\\partial \\psi}{\\partial t} = \\frac{-\\hbar^2}{2m} \\frac{\\partial^2 \\psi}{\\partial x^2} + V \\psi $$"
   ]
  },
  {
   "cell_type": "markdown",
   "metadata": {},
   "source": [
    "And here is some simple Python code."
   ]
  },
  {
   "cell_type": "code",
   "execution_count": 2,
   "metadata": {
    "collapsed": false
   },
   "outputs": [
    {
     "name": "stdout",
     "output_type": "stream",
     "text": [
      "2 + 4 = 6\n"
     ]
    }
   ],
   "source": [
    "a=2\n",
    "b=4\n",
    "print(a,\"+\",b,\"=\",a+b) #And this is a code comment! The print() function just writes all of its arguments in order"
   ]
  },
  {
   "cell_type": "markdown",
   "metadata": {},
   "source": [
    "If you click around on the notebook, you'll notice that it's divided up into cells. There are different types of cells: \"Code\" cells contain and run Python code, \"Markdown\" cells contain text and equations.  There's a dropdown menu on the toolbar that lets you change the type of a cell.  Double clicking on a cell opens it up for editing. For example, if you double click on the Schrodinger equation, you'll see that equations are done just like in Latex, with $ signs.  Double clicking on the sections headers (bold words) reveals that headers are marked with #.\n",
    "\n",
    "To run a cell, you press \"shift\"+\"enter\".  You can also run all of the cells in a notebook at once by selecting \"Cell -> Run All\" from the toolbar.  Try changing the value of \"a\" in the above code block and re-running the cell."
   ]
  },
  {
   "cell_type": "markdown",
   "metadata": {},
   "source": [
    "### Python"
   ]
  },
  {
   "cell_type": "markdown",
   "metadata": {},
   "source": [
    "Python is an interpretted language and uses type inference. Interpretted means that the code is not compiled, like C++ code is.  Instead, when you run Python code, a Python Interpretter reads and executes your code on the fly, in real time.  This means that testing and debugging Python code is very quick (no need to compile), but comes at the cost of run speed (since the interpretter needs to first read your code).  However, the speed issues can be overcome by using good libraries (like NumPy), and only become prohibitive for really big calculations."
   ]
  },
  {
   "cell_type": "markdown",
   "metadata": {},
   "source": [
    "Type inference means that you don't have to tell Python what type a variable is.  For example, in C you need to specify whether a variable is an integer, a float, a string, etc.  Python just figures it out from context.  For example, up above there was no need to tell Python that \"a\" and \"b\" were numbers."
   ]
  },
  {
   "cell_type": "markdown",
   "metadata": {},
   "source": [
    "#### Types"
   ]
  },
  {
   "cell_type": "markdown",
   "metadata": {},
   "source": [
    "Python includes all of the usual variable types: \"ints\", \"floats\", \"bool\", \"string\", etc.  You can get the type of a variable with the \"type()\" function. Here are some examples."
   ]
  },
  {
   "cell_type": "code",
   "execution_count": 3,
   "metadata": {
    "collapsed": false
   },
   "outputs": [
    {
     "name": "stdout",
     "output_type": "stream",
     "text": [
      "3  is a  <class 'int'>\n",
      "3.14  is a  <class 'float'>\n",
      "False  is a  <class 'bool'>\n",
      "Joe  is a  <class 'str'>\n"
     ]
    }
   ],
   "source": [
    "I = 3\n",
    "print(I,\" is a \", type(I))\n",
    "F = 3.14\n",
    "print(F,\" is a \", type(F))\n",
    "truth_val = False\n",
    "print(truth_val,\" is a \", type(truth_val))\n",
    "name = \"Joe\"\n",
    "print(name,\" is a \", type(name))"
   ]
  },
  {
   "cell_type": "markdown",
   "metadata": {},
   "source": [
    "#### Lists"
   ]
  },
  {
   "cell_type": "markdown",
   "metadata": {},
   "source": [
    "Another important Python type is \"list\", which is just a collection of variables that is indexable.  Python is all about lists, and you'll use them to do all sorts of things.  Check it out."
   ]
  },
  {
   "cell_type": "code",
   "execution_count": 4,
   "metadata": {
    "collapsed": false
   },
   "outputs": [
    {
     "name": "stdout",
     "output_type": "stream",
     "text": [
      "[0, 1, 2, 3, 4] <class 'list'> , len= 5\n"
     ]
    }
   ],
   "source": [
    "numbers = [0,1,2,3,4]                 #range(x,y) is a function that returns a list of integers, from x to y\n",
    "print(numbers, type(numbers), \", len=\",len(numbers))    "
   ]
  },
  {
   "cell_type": "markdown",
   "metadata": {},
   "source": [
    "You can get elements of a list by indexing with brackets. (base 0!)  For example,"
   ]
  },
  {
   "cell_type": "code",
   "execution_count": 5,
   "metadata": {
    "collapsed": false
   },
   "outputs": [
    {
     "name": "stdout",
     "output_type": "stream",
     "text": [
      "the_coolest =  Leslie Knope\n"
     ]
    }
   ],
   "source": [
    "names = [\"Tom\", \"Joe\", \"Leslie Knope\"]\n",
    "the_coolest = names[2]\n",
    "print(\"the_coolest = \", the_coolest)"
   ]
  },
  {
   "cell_type": "markdown",
   "metadata": {},
   "source": [
    "Lists are often used in \"for\" loops for iterating over things.  For example, in order to print all of the names in \"names\", I could do:"
   ]
  },
  {
   "cell_type": "code",
   "execution_count": 6,
   "metadata": {
    "collapsed": false
   },
   "outputs": [
    {
     "name": "stdout",
     "output_type": "stream",
     "text": [
      "name  0  is  Tom\n",
      "name  1  is  Joe\n",
      "name  2  is  Leslie Knope\n"
     ]
    }
   ],
   "source": [
    "indices = [0,1,2]\n",
    "for i in indices:\n",
    "    print(\"name \",i,\" is \", names[i])"
   ]
  },
  {
   "cell_type": "markdown",
   "metadata": {},
   "source": [
    "Lists also support \"list comprehensions\", which are fancy ways of constructing new lists. Here's an example where we construct a new list with the squares of the elements of \"numbers\"."
   ]
  },
  {
   "cell_type": "code",
   "execution_count": 7,
   "metadata": {
    "collapsed": false
   },
   "outputs": [
    {
     "name": "stdout",
     "output_type": "stream",
     "text": [
      "[0, 1, 4, 9, 16]\n"
     ]
    }
   ],
   "source": [
    "square_numbers = [x*x for x in numbers]\n",
    "print(square_numbers)"
   ]
  },
  {
   "cell_type": "markdown",
   "metadata": {},
   "source": [
    "#### Functions"
   ]
  },
  {
   "cell_type": "markdown",
   "metadata": {},
   "source": [
    "You'll often want to define functions, pieces of code that you write once but can call many times.  Here's a function that takes  a number, checks if it is an integer, and returns its cube if it is."
   ]
  },
  {
   "cell_type": "code",
   "execution_count": 8,
   "metadata": {
    "collapsed": true
   },
   "outputs": [],
   "source": [
    "def cube(x):\n",
    "    if(not type(x) is int):\n",
    "        print(x,\" is not an integer! Returning 0\")\n",
    "        return 0\n",
    "    return x*x*x"
   ]
  },
  {
   "cell_type": "markdown",
   "metadata": {},
   "source": [
    "Now we can call the function \"cube\" with whatever arguments we want."
   ]
  },
  {
   "cell_type": "code",
   "execution_count": 9,
   "metadata": {
    "collapsed": false
   },
   "outputs": [
    {
     "name": "stdout",
     "output_type": "stream",
     "text": [
      "8\n",
      "Dirac  is not an integer! Returning 0\n",
      "0\n",
      "3.2  is not an integer! Returning 0\n",
      "0\n"
     ]
    }
   ],
   "source": [
    "print(cube(2))\n",
    "print(cube(\"Dirac\"))\n",
    "print(cube(3.2))"
   ]
  },
  {
   "cell_type": "markdown",
   "metadata": {},
   "source": [
    "### Libraries"
   ]
  },
  {
   "cell_type": "markdown",
   "metadata": {},
   "source": [
    "Python really starts getting useful when you use libraries.  Libraries can enable plotting, define new data types, and make your life a lot easier. We use libraries by first importing them, with the \"import\" statement.  Let's import NumPy, a library that defines types and methods for vectors, matrices, and other types of math."
   ]
  },
  {
   "cell_type": "markdown",
   "metadata": {},
   "source": [
    "#### NumPy"
   ]
  },
  {
   "cell_type": "code",
   "execution_count": 10,
   "metadata": {
    "collapsed": true
   },
   "outputs": [],
   "source": [
    "import numpy"
   ]
  },
  {
   "cell_type": "markdown",
   "metadata": {},
   "source": [
    "Now we have numpy! But how do we use it?  NumPy includes a type called \"array\", which is sort of like a Python \"list\", but is only for numbers and can be used to do vector and matrix math in an intuitive way.  Since \"array\" is in the NumPy library, we access it like this."
   ]
  },
  {
   "cell_type": "code",
   "execution_count": 11,
   "metadata": {
    "collapsed": false
   },
   "outputs": [
    {
     "name": "stdout",
     "output_type": "stream",
     "text": [
      "x = [ 2.   3.4 -3. ]\n"
     ]
    }
   ],
   "source": [
    "x = numpy.array([2, 3.4, -3])\n",
    "print(\"x =\",x)"
   ]
  },
  {
   "cell_type": "markdown",
   "metadata": {},
   "source": [
    "Here are some examples of treating arrays like vectors."
   ]
  },
  {
   "cell_type": "code",
   "execution_count": 12,
   "metadata": {
    "collapsed": false
   },
   "outputs": [
    {
     "name": "stdout",
     "output_type": "stream",
     "text": [
      "y = [ -1.    7.   34.2]\n",
      "x+y = [  1.   10.4  31.2]\n",
      "2*x = [ 4.   6.8 -6. ]\n",
      "x*y = [  -2.    23.8 -102.6]\n"
     ]
    }
   ],
   "source": [
    "y= numpy.array([-1, 7, 34.2])\n",
    "print(\"y =\",y)\n",
    "print(\"x+y =\",x+y)\n",
    "print(\"2*x =\", 2*x)\n",
    "print(\"x*y =\", x*y)"
   ]
  },
  {
   "cell_type": "markdown",
   "metadata": {},
   "source": [
    "Note the the default behavior for array multiplication is to multiply the arrays element wise, as in the last example.  If we actually want the dot product of two vectors, we can use:"
   ]
  },
  {
   "cell_type": "code",
   "execution_count": 13,
   "metadata": {
    "collapsed": false
   },
   "outputs": [
    {
     "name": "stdout",
     "output_type": "stream",
     "text": [
      "dot(x,y) = -80.8\n"
     ]
    }
   ],
   "source": [
    "print(\"dot(x,y) =\",numpy.dot(x,y))"
   ]
  },
  {
   "cell_type": "markdown",
   "metadata": {},
   "source": [
    "#### Matplotlib"
   ]
  },
  {
   "cell_type": "markdown",
   "metadata": {},
   "source": [
    "Now suppose I want to plot a $sin(x)$ function from x=0 to 2$\\pi$.  I can get the values for $sin(x)$ and $\\pi$ from NumPy, but we'll need a new library, Matplotlib, to plot it. Importing Matplotlib is a little bit more complicated than NumPy, because we'd like the plot to appear in the Jupyter notebook and the actual plotting function we want is in the \"matplotlib.pyplot\" namespace.  Here's what we do:"
   ]
  },
  {
   "cell_type": "code",
   "execution_count": 14,
   "metadata": {
    "collapsed": false
   },
   "outputs": [],
   "source": [
    "#Lines beginning with % in Jupyter are called \"magic\" functions.  \n",
    "#Don't worry about them too much, just know that this one allows us to plot within the notebook\n",
    "%matplotlib notebook\n",
    "#Now we can import what we need from matplotlib\n",
    "import matplotlib\n",
    "import matplotlib.pyplot as plt   #It would be a pain to type matplotlib.pyplot all the time, so we give it a nickname \"plt\""
   ]
  },
  {
   "cell_type": "markdown",
   "metadata": {},
   "source": [
    "Now that we have the libraries, let's get our $sin(x)$ data."
   ]
  },
  {
   "cell_type": "code",
   "execution_count": 15,
   "metadata": {
    "collapsed": false
   },
   "outputs": [
    {
     "name": "stdout",
     "output_type": "stream",
     "text": [
      "x = [ 0.   0.1  0.2  0.3  0.4  0.5  0.6  0.7  0.8  0.9  1.   1.1  1.2  1.3  1.4\n",
      "  1.5  1.6  1.7  1.8  1.9  2.   2.1  2.2  2.3  2.4  2.5  2.6  2.7  2.8  2.9\n",
      "  3.   3.1  3.2  3.3  3.4  3.5  3.6  3.7  3.8  3.9  4.   4.1  4.2  4.3  4.4\n",
      "  4.5  4.6  4.7  4.8  4.9  5.   5.1  5.2  5.3  5.4  5.5  5.6  5.7  5.8  5.9\n",
      "  6.   6.1  6.2] <class 'numpy.ndarray'>\n",
      "sin(x) = [ 0.          0.09983342  0.19866933  0.29552021  0.38941834  0.47942554\n",
      "  0.56464247  0.64421769  0.71735609  0.78332691  0.84147098  0.89120736\n",
      "  0.93203909  0.96355819  0.98544973  0.99749499  0.9995736   0.99166481\n",
      "  0.97384763  0.94630009  0.90929743  0.86320937  0.8084964   0.74570521\n",
      "  0.67546318  0.59847214  0.51550137  0.42737988  0.33498815  0.23924933\n",
      "  0.14112001  0.04158066 -0.05837414 -0.15774569 -0.2555411  -0.35078323\n",
      " -0.44252044 -0.52983614 -0.61185789 -0.68776616 -0.7568025  -0.81827711\n",
      " -0.87157577 -0.91616594 -0.95160207 -0.97753012 -0.993691   -0.99992326\n",
      " -0.99616461 -0.98245261 -0.95892427 -0.92581468 -0.88345466 -0.83226744\n",
      " -0.77276449 -0.70554033 -0.63126664 -0.55068554 -0.46460218 -0.37387666\n",
      " -0.2794155  -0.1821625  -0.0830894 ] <class 'numpy.ndarray'>\n"
     ]
    }
   ],
   "source": [
    "x = numpy.arange(0, 2*numpy.pi, 0.1)   #arange(x,y,d) gives us an array from x to y in increments of d\n",
    "print(\"x =\",x, type(x))\n",
    "sin_x = numpy.sin(x)    #The numpy.sin function will calcuate the sin of each value in array x and return the results as a new array\n",
    "print(\"sin(x) =\", sin_x, type(sin_x))"
   ]
  },
  {
   "cell_type": "markdown",
   "metadata": {},
   "source": [
    "Now, looking at a bunch of numbers isn't very pleasant, so let's make a plot!"
   ]
  },
  {
   "cell_type": "code",
   "execution_count": 16,
   "metadata": {
    "collapsed": false
   },
   "outputs": [
    {
     "data": {
      "application/javascript": [
       "/* Put everything inside the global mpl namespace */\n",
       "window.mpl = {};\n",
       "\n",
       "mpl.get_websocket_type = function() {\n",
       "    if (typeof(WebSocket) !== 'undefined') {\n",
       "        return WebSocket;\n",
       "    } else if (typeof(MozWebSocket) !== 'undefined') {\n",
       "        return MozWebSocket;\n",
       "    } else {\n",
       "        alert('Your browser does not have WebSocket support.' +\n",
       "              'Please try Chrome, Safari or Firefox ≥ 6. ' +\n",
       "              'Firefox 4 and 5 are also supported but you ' +\n",
       "              'have to enable WebSockets in about:config.');\n",
       "    };\n",
       "}\n",
       "\n",
       "mpl.figure = function(figure_id, websocket, ondownload, parent_element) {\n",
       "    this.id = figure_id;\n",
       "\n",
       "    this.ws = websocket;\n",
       "\n",
       "    this.supports_binary = (this.ws.binaryType != undefined);\n",
       "\n",
       "    if (!this.supports_binary) {\n",
       "        var warnings = document.getElementById(\"mpl-warnings\");\n",
       "        if (warnings) {\n",
       "            warnings.style.display = 'block';\n",
       "            warnings.textContent = (\n",
       "                \"This browser does not support binary websocket messages. \" +\n",
       "                    \"Performance may be slow.\");\n",
       "        }\n",
       "    }\n",
       "\n",
       "    this.imageObj = new Image();\n",
       "\n",
       "    this.context = undefined;\n",
       "    this.message = undefined;\n",
       "    this.canvas = undefined;\n",
       "    this.rubberband_canvas = undefined;\n",
       "    this.rubberband_context = undefined;\n",
       "    this.format_dropdown = undefined;\n",
       "\n",
       "    this.image_mode = 'full';\n",
       "\n",
       "    this.root = $('<div/>');\n",
       "    this._root_extra_style(this.root)\n",
       "    this.root.attr('style', 'display: inline-block');\n",
       "\n",
       "    $(parent_element).append(this.root);\n",
       "\n",
       "    this._init_header(this);\n",
       "    this._init_canvas(this);\n",
       "    this._init_toolbar(this);\n",
       "\n",
       "    var fig = this;\n",
       "\n",
       "    this.waiting = false;\n",
       "\n",
       "    this.ws.onopen =  function () {\n",
       "            fig.send_message(\"supports_binary\", {value: fig.supports_binary});\n",
       "            fig.send_message(\"send_image_mode\", {});\n",
       "            fig.send_message(\"refresh\", {});\n",
       "        }\n",
       "\n",
       "    this.imageObj.onload = function() {\n",
       "            if (fig.image_mode == 'full') {\n",
       "                // Full images could contain transparency (where diff images\n",
       "                // almost always do), so we need to clear the canvas so that\n",
       "                // there is no ghosting.\n",
       "                fig.context.clearRect(0, 0, fig.canvas.width, fig.canvas.height);\n",
       "            }\n",
       "            fig.context.drawImage(fig.imageObj, 0, 0);\n",
       "        };\n",
       "\n",
       "    this.imageObj.onunload = function() {\n",
       "        this.ws.close();\n",
       "    }\n",
       "\n",
       "    this.ws.onmessage = this._make_on_message_function(this);\n",
       "\n",
       "    this.ondownload = ondownload;\n",
       "}\n",
       "\n",
       "mpl.figure.prototype._init_header = function() {\n",
       "    var titlebar = $(\n",
       "        '<div class=\"ui-dialog-titlebar ui-widget-header ui-corner-all ' +\n",
       "        'ui-helper-clearfix\"/>');\n",
       "    var titletext = $(\n",
       "        '<div class=\"ui-dialog-title\" style=\"width: 100%; ' +\n",
       "        'text-align: center; padding: 3px;\"/>');\n",
       "    titlebar.append(titletext)\n",
       "    this.root.append(titlebar);\n",
       "    this.header = titletext[0];\n",
       "}\n",
       "\n",
       "\n",
       "\n",
       "mpl.figure.prototype._canvas_extra_style = function(canvas_div) {\n",
       "\n",
       "}\n",
       "\n",
       "\n",
       "mpl.figure.prototype._root_extra_style = function(canvas_div) {\n",
       "\n",
       "}\n",
       "\n",
       "mpl.figure.prototype._init_canvas = function() {\n",
       "    var fig = this;\n",
       "\n",
       "    var canvas_div = $('<div/>');\n",
       "\n",
       "    canvas_div.attr('style', 'position: relative; clear: both; outline: 0');\n",
       "\n",
       "    function canvas_keyboard_event(event) {\n",
       "        return fig.key_event(event, event['data']);\n",
       "    }\n",
       "\n",
       "    canvas_div.keydown('key_press', canvas_keyboard_event);\n",
       "    canvas_div.keyup('key_release', canvas_keyboard_event);\n",
       "    this.canvas_div = canvas_div\n",
       "    this._canvas_extra_style(canvas_div)\n",
       "    this.root.append(canvas_div);\n",
       "\n",
       "    var canvas = $('<canvas/>');\n",
       "    canvas.addClass('mpl-canvas');\n",
       "    canvas.attr('style', \"left: 0; top: 0; z-index: 0; outline: 0\")\n",
       "\n",
       "    this.canvas = canvas[0];\n",
       "    this.context = canvas[0].getContext(\"2d\");\n",
       "\n",
       "    var rubberband = $('<canvas/>');\n",
       "    rubberband.attr('style', \"position: absolute; left: 0; top: 0; z-index: 1;\")\n",
       "\n",
       "    var pass_mouse_events = true;\n",
       "\n",
       "    canvas_div.resizable({\n",
       "        start: function(event, ui) {\n",
       "            pass_mouse_events = false;\n",
       "        },\n",
       "        resize: function(event, ui) {\n",
       "            fig.request_resize(ui.size.width, ui.size.height);\n",
       "        },\n",
       "        stop: function(event, ui) {\n",
       "            pass_mouse_events = true;\n",
       "            fig.request_resize(ui.size.width, ui.size.height);\n",
       "        },\n",
       "    });\n",
       "\n",
       "    function mouse_event_fn(event) {\n",
       "        if (pass_mouse_events)\n",
       "            return fig.mouse_event(event, event['data']);\n",
       "    }\n",
       "\n",
       "    rubberband.mousedown('button_press', mouse_event_fn);\n",
       "    rubberband.mouseup('button_release', mouse_event_fn);\n",
       "    // Throttle sequential mouse events to 1 every 20ms.\n",
       "    rubberband.mousemove('motion_notify', mouse_event_fn);\n",
       "\n",
       "    rubberband.mouseenter('figure_enter', mouse_event_fn);\n",
       "    rubberband.mouseleave('figure_leave', mouse_event_fn);\n",
       "\n",
       "    canvas_div.on(\"wheel\", function (event) {\n",
       "        event = event.originalEvent;\n",
       "        event['data'] = 'scroll'\n",
       "        if (event.deltaY < 0) {\n",
       "            event.step = 1;\n",
       "        } else {\n",
       "            event.step = -1;\n",
       "        }\n",
       "        mouse_event_fn(event);\n",
       "    });\n",
       "\n",
       "    canvas_div.append(canvas);\n",
       "    canvas_div.append(rubberband);\n",
       "\n",
       "    this.rubberband = rubberband;\n",
       "    this.rubberband_canvas = rubberband[0];\n",
       "    this.rubberband_context = rubberband[0].getContext(\"2d\");\n",
       "    this.rubberband_context.strokeStyle = \"#000000\";\n",
       "\n",
       "    this._resize_canvas = function(width, height) {\n",
       "        // Keep the size of the canvas, canvas container, and rubber band\n",
       "        // canvas in synch.\n",
       "        canvas_div.css('width', width)\n",
       "        canvas_div.css('height', height)\n",
       "\n",
       "        canvas.attr('width', width);\n",
       "        canvas.attr('height', height);\n",
       "\n",
       "        rubberband.attr('width', width);\n",
       "        rubberband.attr('height', height);\n",
       "    }\n",
       "\n",
       "    // Set the figure to an initial 600x600px, this will subsequently be updated\n",
       "    // upon first draw.\n",
       "    this._resize_canvas(600, 600);\n",
       "\n",
       "    // Disable right mouse context menu.\n",
       "    $(this.rubberband_canvas).bind(\"contextmenu\",function(e){\n",
       "        return false;\n",
       "    });\n",
       "\n",
       "    function set_focus () {\n",
       "        canvas.focus();\n",
       "        canvas_div.focus();\n",
       "    }\n",
       "\n",
       "    window.setTimeout(set_focus, 100);\n",
       "}\n",
       "\n",
       "mpl.figure.prototype._init_toolbar = function() {\n",
       "    var fig = this;\n",
       "\n",
       "    var nav_element = $('<div/>')\n",
       "    nav_element.attr('style', 'width: 100%');\n",
       "    this.root.append(nav_element);\n",
       "\n",
       "    // Define a callback function for later on.\n",
       "    function toolbar_event(event) {\n",
       "        return fig.toolbar_button_onclick(event['data']);\n",
       "    }\n",
       "    function toolbar_mouse_event(event) {\n",
       "        return fig.toolbar_button_onmouseover(event['data']);\n",
       "    }\n",
       "\n",
       "    for(var toolbar_ind in mpl.toolbar_items) {\n",
       "        var name = mpl.toolbar_items[toolbar_ind][0];\n",
       "        var tooltip = mpl.toolbar_items[toolbar_ind][1];\n",
       "        var image = mpl.toolbar_items[toolbar_ind][2];\n",
       "        var method_name = mpl.toolbar_items[toolbar_ind][3];\n",
       "\n",
       "        if (!name) {\n",
       "            // put a spacer in here.\n",
       "            continue;\n",
       "        }\n",
       "        var button = $('<button/>');\n",
       "        button.addClass('ui-button ui-widget ui-state-default ui-corner-all ' +\n",
       "                        'ui-button-icon-only');\n",
       "        button.attr('role', 'button');\n",
       "        button.attr('aria-disabled', 'false');\n",
       "        button.click(method_name, toolbar_event);\n",
       "        button.mouseover(tooltip, toolbar_mouse_event);\n",
       "\n",
       "        var icon_img = $('<span/>');\n",
       "        icon_img.addClass('ui-button-icon-primary ui-icon');\n",
       "        icon_img.addClass(image);\n",
       "        icon_img.addClass('ui-corner-all');\n",
       "\n",
       "        var tooltip_span = $('<span/>');\n",
       "        tooltip_span.addClass('ui-button-text');\n",
       "        tooltip_span.html(tooltip);\n",
       "\n",
       "        button.append(icon_img);\n",
       "        button.append(tooltip_span);\n",
       "\n",
       "        nav_element.append(button);\n",
       "    }\n",
       "\n",
       "    var fmt_picker_span = $('<span/>');\n",
       "\n",
       "    var fmt_picker = $('<select/>');\n",
       "    fmt_picker.addClass('mpl-toolbar-option ui-widget ui-widget-content');\n",
       "    fmt_picker_span.append(fmt_picker);\n",
       "    nav_element.append(fmt_picker_span);\n",
       "    this.format_dropdown = fmt_picker[0];\n",
       "\n",
       "    for (var ind in mpl.extensions) {\n",
       "        var fmt = mpl.extensions[ind];\n",
       "        var option = $(\n",
       "            '<option/>', {selected: fmt === mpl.default_extension}).html(fmt);\n",
       "        fmt_picker.append(option)\n",
       "    }\n",
       "\n",
       "    // Add hover states to the ui-buttons\n",
       "    $( \".ui-button\" ).hover(\n",
       "        function() { $(this).addClass(\"ui-state-hover\");},\n",
       "        function() { $(this).removeClass(\"ui-state-hover\");}\n",
       "    );\n",
       "\n",
       "    var status_bar = $('<span class=\"mpl-message\"/>');\n",
       "    nav_element.append(status_bar);\n",
       "    this.message = status_bar[0];\n",
       "}\n",
       "\n",
       "mpl.figure.prototype.request_resize = function(x_pixels, y_pixels) {\n",
       "    // Request matplotlib to resize the figure. Matplotlib will then trigger a resize in the client,\n",
       "    // which will in turn request a refresh of the image.\n",
       "    this.send_message('resize', {'width': x_pixels, 'height': y_pixels});\n",
       "}\n",
       "\n",
       "mpl.figure.prototype.send_message = function(type, properties) {\n",
       "    properties['type'] = type;\n",
       "    properties['figure_id'] = this.id;\n",
       "    this.ws.send(JSON.stringify(properties));\n",
       "}\n",
       "\n",
       "mpl.figure.prototype.send_draw_message = function() {\n",
       "    if (!this.waiting) {\n",
       "        this.waiting = true;\n",
       "        this.ws.send(JSON.stringify({type: \"draw\", figure_id: this.id}));\n",
       "    }\n",
       "}\n",
       "\n",
       "\n",
       "mpl.figure.prototype.handle_save = function(fig, msg) {\n",
       "    var format_dropdown = fig.format_dropdown;\n",
       "    var format = format_dropdown.options[format_dropdown.selectedIndex].value;\n",
       "    fig.ondownload(fig, format);\n",
       "}\n",
       "\n",
       "\n",
       "mpl.figure.prototype.handle_resize = function(fig, msg) {\n",
       "    var size = msg['size'];\n",
       "    if (size[0] != fig.canvas.width || size[1] != fig.canvas.height) {\n",
       "        fig._resize_canvas(size[0], size[1]);\n",
       "        fig.send_message(\"refresh\", {});\n",
       "    };\n",
       "}\n",
       "\n",
       "mpl.figure.prototype.handle_rubberband = function(fig, msg) {\n",
       "    var x0 = msg['x0'];\n",
       "    var y0 = fig.canvas.height - msg['y0'];\n",
       "    var x1 = msg['x1'];\n",
       "    var y1 = fig.canvas.height - msg['y1'];\n",
       "    x0 = Math.floor(x0) + 0.5;\n",
       "    y0 = Math.floor(y0) + 0.5;\n",
       "    x1 = Math.floor(x1) + 0.5;\n",
       "    y1 = Math.floor(y1) + 0.5;\n",
       "    var min_x = Math.min(x0, x1);\n",
       "    var min_y = Math.min(y0, y1);\n",
       "    var width = Math.abs(x1 - x0);\n",
       "    var height = Math.abs(y1 - y0);\n",
       "\n",
       "    fig.rubberband_context.clearRect(\n",
       "        0, 0, fig.canvas.width, fig.canvas.height);\n",
       "\n",
       "    fig.rubberband_context.strokeRect(min_x, min_y, width, height);\n",
       "}\n",
       "\n",
       "mpl.figure.prototype.handle_figure_label = function(fig, msg) {\n",
       "    // Updates the figure title.\n",
       "    fig.header.textContent = msg['label'];\n",
       "}\n",
       "\n",
       "mpl.figure.prototype.handle_cursor = function(fig, msg) {\n",
       "    var cursor = msg['cursor'];\n",
       "    switch(cursor)\n",
       "    {\n",
       "    case 0:\n",
       "        cursor = 'pointer';\n",
       "        break;\n",
       "    case 1:\n",
       "        cursor = 'default';\n",
       "        break;\n",
       "    case 2:\n",
       "        cursor = 'crosshair';\n",
       "        break;\n",
       "    case 3:\n",
       "        cursor = 'move';\n",
       "        break;\n",
       "    }\n",
       "    fig.rubberband_canvas.style.cursor = cursor;\n",
       "}\n",
       "\n",
       "mpl.figure.prototype.handle_message = function(fig, msg) {\n",
       "    fig.message.textContent = msg['message'];\n",
       "}\n",
       "\n",
       "mpl.figure.prototype.handle_draw = function(fig, msg) {\n",
       "    // Request the server to send over a new figure.\n",
       "    fig.send_draw_message();\n",
       "}\n",
       "\n",
       "mpl.figure.prototype.handle_image_mode = function(fig, msg) {\n",
       "    fig.image_mode = msg['mode'];\n",
       "}\n",
       "\n",
       "mpl.figure.prototype.updated_canvas_event = function() {\n",
       "    // Called whenever the canvas gets updated.\n",
       "    this.send_message(\"ack\", {});\n",
       "}\n",
       "\n",
       "// A function to construct a web socket function for onmessage handling.\n",
       "// Called in the figure constructor.\n",
       "mpl.figure.prototype._make_on_message_function = function(fig) {\n",
       "    return function socket_on_message(evt) {\n",
       "        if (evt.data instanceof Blob) {\n",
       "            /* FIXME: We get \"Resource interpreted as Image but\n",
       "             * transferred with MIME type text/plain:\" errors on\n",
       "             * Chrome.  But how to set the MIME type?  It doesn't seem\n",
       "             * to be part of the websocket stream */\n",
       "            evt.data.type = \"image/png\";\n",
       "\n",
       "            /* Free the memory for the previous frames */\n",
       "            if (fig.imageObj.src) {\n",
       "                (window.URL || window.webkitURL).revokeObjectURL(\n",
       "                    fig.imageObj.src);\n",
       "            }\n",
       "\n",
       "            fig.imageObj.src = (window.URL || window.webkitURL).createObjectURL(\n",
       "                evt.data);\n",
       "            fig.updated_canvas_event();\n",
       "            fig.waiting = false;\n",
       "            return;\n",
       "        }\n",
       "        else if (typeof evt.data === 'string' && evt.data.slice(0, 21) == \"data:image/png;base64\") {\n",
       "            fig.imageObj.src = evt.data;\n",
       "            fig.updated_canvas_event();\n",
       "            fig.waiting = false;\n",
       "            return;\n",
       "        }\n",
       "\n",
       "        var msg = JSON.parse(evt.data);\n",
       "        var msg_type = msg['type'];\n",
       "\n",
       "        // Call the  \"handle_{type}\" callback, which takes\n",
       "        // the figure and JSON message as its only arguments.\n",
       "        try {\n",
       "            var callback = fig[\"handle_\" + msg_type];\n",
       "        } catch (e) {\n",
       "            console.log(\"No handler for the '\" + msg_type + \"' message type: \", msg);\n",
       "            return;\n",
       "        }\n",
       "\n",
       "        if (callback) {\n",
       "            try {\n",
       "                // console.log(\"Handling '\" + msg_type + \"' message: \", msg);\n",
       "                callback(fig, msg);\n",
       "            } catch (e) {\n",
       "                console.log(\"Exception inside the 'handler_\" + msg_type + \"' callback:\", e, e.stack, msg);\n",
       "            }\n",
       "        }\n",
       "    };\n",
       "}\n",
       "\n",
       "// from http://stackoverflow.com/questions/1114465/getting-mouse-location-in-canvas\n",
       "mpl.findpos = function(e) {\n",
       "    //this section is from http://www.quirksmode.org/js/events_properties.html\n",
       "    var targ;\n",
       "    if (!e)\n",
       "        e = window.event;\n",
       "    if (e.target)\n",
       "        targ = e.target;\n",
       "    else if (e.srcElement)\n",
       "        targ = e.srcElement;\n",
       "    if (targ.nodeType == 3) // defeat Safari bug\n",
       "        targ = targ.parentNode;\n",
       "\n",
       "    // jQuery normalizes the pageX and pageY\n",
       "    // pageX,Y are the mouse positions relative to the document\n",
       "    // offset() returns the position of the element relative to the document\n",
       "    var x = e.pageX - $(targ).offset().left;\n",
       "    var y = e.pageY - $(targ).offset().top;\n",
       "\n",
       "    return {\"x\": x, \"y\": y};\n",
       "};\n",
       "\n",
       "/*\n",
       " * return a copy of an object with only non-object keys\n",
       " * we need this to avoid circular references\n",
       " * http://stackoverflow.com/a/24161582/3208463\n",
       " */\n",
       "function simpleKeys (original) {\n",
       "  return Object.keys(original).reduce(function (obj, key) {\n",
       "    if (typeof original[key] !== 'object')\n",
       "        obj[key] = original[key]\n",
       "    return obj;\n",
       "  }, {});\n",
       "}\n",
       "\n",
       "mpl.figure.prototype.mouse_event = function(event, name) {\n",
       "    var canvas_pos = mpl.findpos(event)\n",
       "\n",
       "    if (name === 'button_press')\n",
       "    {\n",
       "        this.canvas.focus();\n",
       "        this.canvas_div.focus();\n",
       "    }\n",
       "\n",
       "    var x = canvas_pos.x;\n",
       "    var y = canvas_pos.y;\n",
       "\n",
       "    this.send_message(name, {x: x, y: y, button: event.button,\n",
       "                             step: event.step,\n",
       "                             guiEvent: simpleKeys(event)});\n",
       "\n",
       "    /* This prevents the web browser from automatically changing to\n",
       "     * the text insertion cursor when the button is pressed.  We want\n",
       "     * to control all of the cursor setting manually through the\n",
       "     * 'cursor' event from matplotlib */\n",
       "    event.preventDefault();\n",
       "    return false;\n",
       "}\n",
       "\n",
       "mpl.figure.prototype._key_event_extra = function(event, name) {\n",
       "    // Handle any extra behaviour associated with a key event\n",
       "}\n",
       "\n",
       "mpl.figure.prototype.key_event = function(event, name) {\n",
       "\n",
       "    // Prevent repeat events\n",
       "    if (name == 'key_press')\n",
       "    {\n",
       "        if (event.which === this._key)\n",
       "            return;\n",
       "        else\n",
       "            this._key = event.which;\n",
       "    }\n",
       "    if (name == 'key_release')\n",
       "        this._key = null;\n",
       "\n",
       "    var value = '';\n",
       "    if (event.ctrlKey && event.which != 17)\n",
       "        value += \"ctrl+\";\n",
       "    if (event.altKey && event.which != 18)\n",
       "        value += \"alt+\";\n",
       "    if (event.shiftKey && event.which != 16)\n",
       "        value += \"shift+\";\n",
       "\n",
       "    value += 'k';\n",
       "    value += event.which.toString();\n",
       "\n",
       "    this._key_event_extra(event, name);\n",
       "\n",
       "    this.send_message(name, {key: value,\n",
       "                             guiEvent: simpleKeys(event)});\n",
       "    return false;\n",
       "}\n",
       "\n",
       "mpl.figure.prototype.toolbar_button_onclick = function(name) {\n",
       "    if (name == 'download') {\n",
       "        this.handle_save(this, null);\n",
       "    } else {\n",
       "        this.send_message(\"toolbar_button\", {name: name});\n",
       "    }\n",
       "};\n",
       "\n",
       "mpl.figure.prototype.toolbar_button_onmouseover = function(tooltip) {\n",
       "    this.message.textContent = tooltip;\n",
       "};\n",
       "mpl.toolbar_items = [[\"Home\", \"Reset original view\", \"fa fa-home icon-home\", \"home\"], [\"Back\", \"Back to  previous view\", \"fa fa-arrow-left icon-arrow-left\", \"back\"], [\"Forward\", \"Forward to next view\", \"fa fa-arrow-right icon-arrow-right\", \"forward\"], [\"\", \"\", \"\", \"\"], [\"Pan\", \"Pan axes with left mouse, zoom with right\", \"fa fa-arrows icon-move\", \"pan\"], [\"Zoom\", \"Zoom to rectangle\", \"fa fa-square-o icon-check-empty\", \"zoom\"], [\"\", \"\", \"\", \"\"], [\"Download\", \"Download plot\", \"fa fa-floppy-o icon-save\", \"download\"]];\n",
       "\n",
       "mpl.extensions = [\"eps\", \"jpeg\", \"pdf\", \"png\", \"ps\", \"raw\", \"svg\", \"tif\"];\n",
       "\n",
       "mpl.default_extension = \"png\";var comm_websocket_adapter = function(comm) {\n",
       "    // Create a \"websocket\"-like object which calls the given IPython comm\n",
       "    // object with the appropriate methods. Currently this is a non binary\n",
       "    // socket, so there is still some room for performance tuning.\n",
       "    var ws = {};\n",
       "\n",
       "    ws.close = function() {\n",
       "        comm.close()\n",
       "    };\n",
       "    ws.send = function(m) {\n",
       "        //console.log('sending', m);\n",
       "        comm.send(m);\n",
       "    };\n",
       "    // Register the callback with on_msg.\n",
       "    comm.on_msg(function(msg) {\n",
       "        //console.log('receiving', msg['content']['data'], msg);\n",
       "        // Pass the mpl event to the overriden (by mpl) onmessage function.\n",
       "        ws.onmessage(msg['content']['data'])\n",
       "    });\n",
       "    return ws;\n",
       "}\n",
       "\n",
       "mpl.mpl_figure_comm = function(comm, msg) {\n",
       "    // This is the function which gets called when the mpl process\n",
       "    // starts-up an IPython Comm through the \"matplotlib\" channel.\n",
       "\n",
       "    var id = msg.content.data.id;\n",
       "    // Get hold of the div created by the display call when the Comm\n",
       "    // socket was opened in Python.\n",
       "    var element = $(\"#\" + id);\n",
       "    var ws_proxy = comm_websocket_adapter(comm)\n",
       "\n",
       "    function ondownload(figure, format) {\n",
       "        window.open(figure.imageObj.src);\n",
       "    }\n",
       "\n",
       "    var fig = new mpl.figure(id, ws_proxy,\n",
       "                           ondownload,\n",
       "                           element.get(0));\n",
       "\n",
       "    // Call onopen now - mpl needs it, as it is assuming we've passed it a real\n",
       "    // web socket which is closed, not our websocket->open comm proxy.\n",
       "    ws_proxy.onopen();\n",
       "\n",
       "    fig.parent_element = element.get(0);\n",
       "    fig.cell_info = mpl.find_output_cell(\"<div id='\" + id + \"'></div>\");\n",
       "    if (!fig.cell_info) {\n",
       "        console.error(\"Failed to find cell for figure\", id, fig);\n",
       "        return;\n",
       "    }\n",
       "\n",
       "    var output_index = fig.cell_info[2]\n",
       "    var cell = fig.cell_info[0];\n",
       "\n",
       "};\n",
       "\n",
       "mpl.figure.prototype.handle_close = function(fig, msg) {\n",
       "    fig.root.unbind('remove')\n",
       "\n",
       "    // Update the output cell to use the data from the current canvas.\n",
       "    fig.push_to_output();\n",
       "    var dataURL = fig.canvas.toDataURL();\n",
       "    // Re-enable the keyboard manager in IPython - without this line, in FF,\n",
       "    // the notebook keyboard shortcuts fail.\n",
       "    IPython.keyboard_manager.enable()\n",
       "    $(fig.parent_element).html('<img src=\"' + dataURL + '\">');\n",
       "    fig.close_ws(fig, msg);\n",
       "}\n",
       "\n",
       "mpl.figure.prototype.close_ws = function(fig, msg){\n",
       "    fig.send_message('closing', msg);\n",
       "    // fig.ws.close()\n",
       "}\n",
       "\n",
       "mpl.figure.prototype.push_to_output = function(remove_interactive) {\n",
       "    // Turn the data on the canvas into data in the output cell.\n",
       "    var dataURL = this.canvas.toDataURL();\n",
       "    this.cell_info[1]['text/html'] = '<img src=\"' + dataURL + '\">';\n",
       "}\n",
       "\n",
       "mpl.figure.prototype.updated_canvas_event = function() {\n",
       "    // Tell IPython that the notebook contents must change.\n",
       "    IPython.notebook.set_dirty(true);\n",
       "    this.send_message(\"ack\", {});\n",
       "    var fig = this;\n",
       "    // Wait a second, then push the new image to the DOM so\n",
       "    // that it is saved nicely (might be nice to debounce this).\n",
       "    setTimeout(function () { fig.push_to_output() }, 1000);\n",
       "}\n",
       "\n",
       "mpl.figure.prototype._init_toolbar = function() {\n",
       "    var fig = this;\n",
       "\n",
       "    var nav_element = $('<div/>')\n",
       "    nav_element.attr('style', 'width: 100%');\n",
       "    this.root.append(nav_element);\n",
       "\n",
       "    // Define a callback function for later on.\n",
       "    function toolbar_event(event) {\n",
       "        return fig.toolbar_button_onclick(event['data']);\n",
       "    }\n",
       "    function toolbar_mouse_event(event) {\n",
       "        return fig.toolbar_button_onmouseover(event['data']);\n",
       "    }\n",
       "\n",
       "    for(var toolbar_ind in mpl.toolbar_items){\n",
       "        var name = mpl.toolbar_items[toolbar_ind][0];\n",
       "        var tooltip = mpl.toolbar_items[toolbar_ind][1];\n",
       "        var image = mpl.toolbar_items[toolbar_ind][2];\n",
       "        var method_name = mpl.toolbar_items[toolbar_ind][3];\n",
       "\n",
       "        if (!name) { continue; };\n",
       "\n",
       "        var button = $('<button class=\"btn btn-default\" href=\"#\" title=\"' + name + '\"><i class=\"fa ' + image + ' fa-lg\"></i></button>');\n",
       "        button.click(method_name, toolbar_event);\n",
       "        button.mouseover(tooltip, toolbar_mouse_event);\n",
       "        nav_element.append(button);\n",
       "    }\n",
       "\n",
       "    // Add the status bar.\n",
       "    var status_bar = $('<span class=\"mpl-message\" style=\"text-align:right; float: right;\"/>');\n",
       "    nav_element.append(status_bar);\n",
       "    this.message = status_bar[0];\n",
       "\n",
       "    // Add the close button to the window.\n",
       "    var buttongrp = $('<div class=\"btn-group inline pull-right\"></div>');\n",
       "    var button = $('<button class=\"btn btn-mini btn-primary\" href=\"#\" title=\"Stop Interaction\"><i class=\"fa fa-power-off icon-remove icon-large\"></i></button>');\n",
       "    button.click(function (evt) { fig.handle_close(fig, {}); } );\n",
       "    button.mouseover('Stop Interaction', toolbar_mouse_event);\n",
       "    buttongrp.append(button);\n",
       "    var titlebar = this.root.find($('.ui-dialog-titlebar'));\n",
       "    titlebar.prepend(buttongrp);\n",
       "}\n",
       "\n",
       "mpl.figure.prototype._root_extra_style = function(el){\n",
       "    var fig = this\n",
       "    el.on(\"remove\", function(){\n",
       "\tfig.close_ws(fig, {});\n",
       "    });\n",
       "}\n",
       "\n",
       "mpl.figure.prototype._canvas_extra_style = function(el){\n",
       "    // this is important to make the div 'focusable\n",
       "    el.attr('tabindex', 0)\n",
       "    // reach out to IPython and tell the keyboard manager to turn it's self\n",
       "    // off when our div gets focus\n",
       "\n",
       "    // location in version 3\n",
       "    if (IPython.notebook.keyboard_manager) {\n",
       "        IPython.notebook.keyboard_manager.register_events(el);\n",
       "    }\n",
       "    else {\n",
       "        // location in version 2\n",
       "        IPython.keyboard_manager.register_events(el);\n",
       "    }\n",
       "\n",
       "}\n",
       "\n",
       "mpl.figure.prototype._key_event_extra = function(event, name) {\n",
       "    var manager = IPython.notebook.keyboard_manager;\n",
       "    if (!manager)\n",
       "        manager = IPython.keyboard_manager;\n",
       "\n",
       "    // Check for shift+enter\n",
       "    if (event.shiftKey && event.which == 13) {\n",
       "        this.canvas_div.blur();\n",
       "        event.shiftKey = false;\n",
       "        // Send a \"J\" for go to next cell\n",
       "        event.which = 74;\n",
       "        event.keyCode = 74;\n",
       "        manager.command_mode();\n",
       "        manager.handle_keydown(event);\n",
       "    }\n",
       "}\n",
       "\n",
       "mpl.figure.prototype.handle_save = function(fig, msg) {\n",
       "    fig.ondownload(fig, null);\n",
       "}\n",
       "\n",
       "\n",
       "mpl.find_output_cell = function(html_output) {\n",
       "    // Return the cell and output element which can be found *uniquely* in the notebook.\n",
       "    // Note - this is a bit hacky, but it is done because the \"notebook_saving.Notebook\"\n",
       "    // IPython event is triggered only after the cells have been serialised, which for\n",
       "    // our purposes (turning an active figure into a static one), is too late.\n",
       "    var cells = IPython.notebook.get_cells();\n",
       "    var ncells = cells.length;\n",
       "    for (var i=0; i<ncells; i++) {\n",
       "        var cell = cells[i];\n",
       "        if (cell.cell_type === 'code'){\n",
       "            for (var j=0; j<cell.output_area.outputs.length; j++) {\n",
       "                var data = cell.output_area.outputs[j];\n",
       "                if (data.data) {\n",
       "                    // IPython >= 3 moved mimebundle to data attribute of output\n",
       "                    data = data.data;\n",
       "                }\n",
       "                if (data['text/html'] == html_output) {\n",
       "                    return [cell, data, j];\n",
       "                }\n",
       "            }\n",
       "        }\n",
       "    }\n",
       "}\n",
       "\n",
       "// Register the function which deals with the matplotlib target/channel.\n",
       "// The kernel may be null if the page has been refreshed.\n",
       "if (IPython.notebook.kernel != null) {\n",
       "    IPython.notebook.kernel.comm_manager.register_target('matplotlib', mpl.mpl_figure_comm);\n",
       "}\n"
      ],
      "text/plain": [
       "<IPython.core.display.Javascript object>"
      ]
     },
     "metadata": {},
     "output_type": "display_data"
    },
    {
     "data": {
      "text/html": [
       "<img src=\"data:image/png;base64,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\">"
      ],
      "text/plain": [
       "<IPython.core.display.HTML object>"
      ]
     },
     "metadata": {},
     "output_type": "display_data"
    }
   ],
   "source": [
    "plt.plot(x,sin_x)\n",
    "plt.title(\"Plot of sin(x)\")\n",
    "plt.xlabel(\"x\")\n",
    "plt.ylabel(\"sin(x)\")\n",
    "plt.show()"
   ]
  },
  {
   "cell_type": "markdown",
   "metadata": {},
   "source": [
    "### Exercise"
   ]
  },
  {
   "cell_type": "markdown",
   "metadata": {},
   "source": [
    "Now that you have a bit of Python knowledge, plot the following function:\n",
    "$$f(x)=A\\exp^{-(x-b)^2/2\\sigma}$$\n",
    "For $A=2$, $b=3$, and $\\sigma=7.5$. Plot it for $x=[-7,13]$, with increments of $0.2$. Make sure to label the plot axes!\n",
    "\n",
    "Hint: You need an exponential function... maybe NumPy has one? Check the documentation! https://docs.scipy.org/doc/numpy/reference/routines.math.html"
   ]
  },
  {
   "cell_type": "code",
   "execution_count": null,
   "metadata": {
    "collapsed": false
   },
   "outputs": [],
   "source": []
  },
  {
   "cell_type": "code",
   "execution_count": null,
   "metadata": {
    "collapsed": true
   },
   "outputs": [],
   "source": []
  }
 ],
 "metadata": {
  "anaconda-cloud": {},
  "kernelspec": {
   "display_name": "Python 3",
   "language": "python",
   "name": "python3"
  },
  "language_info": {
   "codemirror_mode": {
    "name": "ipython",
    "version": 3
   },
   "file_extension": ".py",
   "mimetype": "text/x-python",
   "name": "python",
   "nbconvert_exporter": "python",
   "pygments_lexer": "ipython3",
   "version": "3.6.0"
  }
 },
 "nbformat": 4,
 "nbformat_minor": 0
}

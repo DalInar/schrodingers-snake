{
 "cells": [
  {
   "cell_type": "markdown",
   "metadata": {},
   "source": [
    "# Physics 453 - Probability and Python Practice"
   ]
  },
  {
   "cell_type": "markdown",
   "metadata": {},
   "source": [
    "$\\bf{Probabilities}$ play a big role in the toolbox of a quantum mechanic.  In this class, we'll spend a lot of time learning that we usually cannot predict the exact values of a quantum particle's energy, momentum, position, etc. like we can in classical physics.  Instead, we'll obtain probability distributions (discrete or continuous) for these $\\bf{observables}$, so it's important to understand some basics about probability theory.  In this notebook, we'll review how to calculate and understand the $\\bf{mean}$, $\\bf{variance}$, and $\\bf{standard\\ deviation}$ of a set of data, as well as work with $\\bf{probability\\ distributions}$.\n",
    "\n",
    "This class will also involve computational assignments to help calculate and visualize quantum problems that just aren't feasible to solve with pencil and paper.  This Jupyter notebook is designed to touch on many of the programming concepts you'll need to understand in Python - variables, arrays, loops, plotting, and functions."
   ]
  },
  {
   "cell_type": "markdown",
   "metadata": {},
   "source": [
    "## Probability Distributions"
   ]
  },
  {
   "cell_type": "markdown",
   "metadata": {},
   "source": [
    "A probability distribution, or probability density, describes how likely it is for some quantity to take a value within some range.  For example, if the location of a ball on the x-axis is described with a probability density $\\rho(x)$, the probability of the ball being found between $a$ and $b$, written as $P_{ab}$, is given by:\n",
    "$$P_{ab}=\\int_a^b \\rho(x)dx$$\n",
    "Probability densities must be normalized, such that the probability of a value being between $-\\infty$ and $\\infty$ is one.\n",
    "\n",
    "$$1=\\int_{-\\infty}^\\infty \\rho(x)dx$$\n",
    "\n",
    "With the probability density we can calculate expectation values of various quantities.  An expectation value of $f(x)$, written as $<f(x)>$, is just a weighted average of the values of $f(x)$ against the probability density $\\rho(x)$.  It is calculated as\n",
    "$$<f(x)>=\\int_{-\\infty}^\\infty f(x)\\rho(x)dx$$\n",
    "We can also calculate the variance, $\\sigma^2$ of the probability density as:\n",
    "$$\\sigma^2=<x^2>-<x>^2$$"
   ]
  },
  {
   "cell_type": "markdown",
   "metadata": {},
   "source": [
    "## Numerical Considerations"
   ]
  },
  {
   "cell_type": "markdown",
   "metadata": {},
   "source": [
    "Between any two points along the number line, like $a$ and $b$, there are an uncountable number of real values.  If we want to deal with continuous probability densities on a computer, we must then approximate this continuum with a discrete set of values, or grid.  For example, instead of trying to write down the whole number line, we instead work with a finite, uniform set of $N$ points:\n",
    "$$x_i = [x_0, x_1, ..., x_{N-1}]$$\n",
    "Where $x_i = x_0 + i*\\delta x$.  These points are spaced $\\delta x$ apart from each other, which means that our continuous integrals become finite sums:\n",
    "$$P_{ab}=\\sum_{i=n}^{m} \\rho(x_i)*\\delta x$$\n",
    "Where $x_n$ is the closest point to $a$ and $x_m$ is the closest point to $b$. This approximation to the integral should be good as long as $\\delta x$ is small enough."
   ]
  },
  {
   "cell_type": "markdown",
   "metadata": {},
   "source": [
    "### Example"
   ]
  },
  {
   "cell_type": "markdown",
   "metadata": {},
   "source": [
    "Suppose I want to integrate $sin(x)$ from $x=0.0$ to $x=\\pi$.  First, I'll import the libraries I'll need - NumPy for math, and MatPlotLib for plotting."
   ]
  },
  {
   "cell_type": "code",
   "execution_count": 1,
   "metadata": {
    "collapsed": true
   },
   "outputs": [],
   "source": [
    "import numpy as np\n",
    "import matplotlib.pyplot as plt\n",
    "%matplotlib inline"
   ]
  },
  {
   "cell_type": "markdown",
   "metadata": {},
   "source": [
    "Next, I setup a grid of values of $x$ between 0 and $\\pi$. I'll take $\\delta x = 0.01$."
   ]
  },
  {
   "cell_type": "code",
   "execution_count": 2,
   "metadata": {
    "collapsed": false
   },
   "outputs": [],
   "source": [
    "dx = 0.01\n",
    "a=0.0\n",
    "b=np.pi\n",
    "x = np.arange(a,b,dx)"
   ]
  },
  {
   "cell_type": "markdown",
   "metadata": {},
   "source": [
    "Now, I calculate the value of $sin(x)$ at our grid points and plot them."
   ]
  },
  {
   "cell_type": "code",
   "execution_count": 3,
   "metadata": {
    "collapsed": false
   },
   "outputs": [
    {
     "data": {
      "image/png": "[encoded data removed]",
      "text/plain": [
       "<matplotlib.figure.Figure at 0x2617279aef0>"
      ]
     },
     "metadata": {},
     "output_type": "display_data"
    }
   ],
   "source": [
    "def sin_vals(x):\n",
    "    return np.sin(x)\n",
    "\n",
    "sin_values = sin_vals(x)\n",
    "\n",
    "plt.figure()\n",
    "plt.plot(x,sin_values)\n",
    "plt.show()"
   ]
  },
  {
   "cell_type": "markdown",
   "metadata": {},
   "source": [
    "And finally I'll calculate the integral by summing over the values and multiplying by $\\delta x$."
   ]
  },
  {
   "cell_type": "code",
   "execution_count": 4,
   "metadata": {
    "collapsed": false
   },
   "outputs": [
    {
     "name": "stdout",
     "output_type": "stream",
     "text": [
      "Approximate value of integral =  1.99999002831\n"
     ]
    }
   ],
   "source": [
    "integral_approx = np.sum(sin_values)*dx\n",
    "print(\"Approximate value of integral = \", integral_approx)"
   ]
  },
  {
   "cell_type": "markdown",
   "metadata": {},
   "source": [
    "## Gaussian (Normal) Distribution"
   ]
  },
  {
   "cell_type": "markdown",
   "metadata": {},
   "source": [
    "The Gaussian, or Normal, Distribution is given by\n",
    "$$\\rho(x)=\\frac{1}{\\sqrt{2\\pi \\sigma^2}}e^{-(x-\\mu)^2/2\\sigma^2}$$\n",
    "Where $\\mu=<x>$."
   ]
  },
  {
   "cell_type": "markdown",
   "metadata": {},
   "source": [
    "### Question 1"
   ]
  },
  {
   "cell_type": "markdown",
   "metadata": {},
   "source": [
    "Write a function that takes $x$, $\\mu$, and $\\sigma$ as arguments and returns the values of the Normal distribution.  Make a plot of the Normal distribution between $x=-10$ and $x=10$ for $\\mu=1$ and $\\sigma=2$.  This is the distribution that we'll work with for the rest of the notebook."
   ]
  },
  {
   "cell_type": "code",
   "execution_count": 5,
   "metadata": {
    "collapsed": false
   },
   "outputs": [
    {
     "data": {
      "image/png": "[encoded data removed]",
      "text/plain": [
       "<matplotlib.figure.Figure at 0x26170830c50>"
      ]
     },
     "metadata": {},
     "output_type": "display_data"
    }
   ],
   "source": [
    "def prob(mu,sigma,x):\n",
    "    return 1./np.sqrt(2*np.pi*sigma**2)*np.exp(-(x-mu)**2/(2*sigma**2))\n",
    "\n",
    "dx=0.1\n",
    "x = np.arange(-10,10,dx)\n",
    "mu = 1\n",
    "sigma = 2\n",
    "\n",
    "p = prob(mu, sigma, x)\n",
    "\n",
    "plt.figure()\n",
    "plt.plot(x,p)\n",
    "plt.show()"
   ]
  },
  {
   "cell_type": "markdown",
   "metadata": {},
   "source": [
    "### Question 2"
   ]
  },
  {
   "cell_type": "markdown",
   "metadata": {},
   "source": [
    "Write a function that calculates and returns $<f(x)>$, taking $\\delta x$, $f(x)$, and $\\rho(x)$ as inputs.  Use this function to calculate $\\mu=<x>$ and $\\sigma$. We know what these values should be - does your function calculate the correct values?"
   ]
  },
  {
   "cell_type": "code",
   "execution_count": 6,
   "metadata": {
    "collapsed": false
   },
   "outputs": [
    {
     "name": "stdout",
     "output_type": "stream",
     "text": [
      "Mu =  0.999960666482\n",
      "Sigma =  1.99991673208\n"
     ]
    }
   ],
   "source": [
    "def expect(dx,fx,p):\n",
    "    return np.sum(fx*p)*dx\n",
    "\n",
    "mean = expect(dx,x,p)\n",
    "mean2 = expect(dx, x**2, p)\n",
    "print(\"Mu = \",mean)\n",
    "print(\"Sigma = \",np.sqrt(mean2-mean**2))"
   ]
  },
  {
   "cell_type": "markdown",
   "metadata": {},
   "source": [
    "### Question 3"
   ]
  },
  {
   "cell_type": "markdown",
   "metadata": {},
   "source": [
    "Write a function that calculates $P_{ab}$, taking as arguments $a$, $b$, $x$, $\\delta x$, and $\\rho(x)$.  Use this function to calculate the probability of $x$ being between $\\mu-\\sigma$ and $\\mu+\\sigma$. Compare your result to the Wiki page for [normal distributions](https://en.wikipedia.org/wiki/Normal_distribution), under the standard deviation section."
   ]
  },
  {
   "cell_type": "code",
   "execution_count": 7,
   "metadata": {
    "collapsed": false
   },
   "outputs": [
    {
     "name": "stdout",
     "output_type": "stream",
     "text": [
      "0.682588662599\n"
     ]
    }
   ],
   "source": [
    "def integrate(a,b,dx,x,p):\n",
    "    region = (x>a) & (x<b)   \n",
    "    return np.sum(p[region])*dx\n",
    "    \n",
    "print(integrate(mu-sigma,mu+sigma,dx,x,p))"
   ]
  },
  {
   "cell_type": "markdown",
   "metadata": {
    "collapsed": true
   },
   "source": [
    "### Question 4\n",
    "Check that the probability distribution is correctly normalized. Explain your method."
   ]
  },
  {
   "cell_type": "code",
   "execution_count": 8,
   "metadata": {
    "collapsed": false
   },
   "outputs": [
    {
     "name": "stdout",
     "output_type": "stream",
     "text": [
      "0.999996171339\n"
     ]
    }
   ],
   "source": [
    "print(integrate(-100,100,dx,x,p))"
   ]
  },
  {
   "cell_type": "markdown",
   "metadata": {},
   "source": [
    "The probability of getting a value between $-\\infty$ and $\\infty$ must be one, so $P_{-\\infty, \\infty}=1$."
   ]
  },
  {
   "cell_type": "code",
   "execution_count": null,
   "metadata": {
    "collapsed": true
   },
   "outputs": [],
   "source": []
  }
 ],
 "metadata": {
  "kernelspec": {
   "display_name": "Python 3",
   "language": "python",
   "name": "python3"
  },
  "language_info": {
   "codemirror_mode": {
    "name": "ipython",
    "version": 3
   },
   "file_extension": ".py",
   "mimetype": "text/x-python",
   "name": "python",
   "nbconvert_exporter": "python",
   "pygments_lexer": "ipython3",
   "version": "3.6.0"
  }
 },
 "nbformat": 4,
 "nbformat_minor": 1
}

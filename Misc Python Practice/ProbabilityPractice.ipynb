{
 "cells": [
  {
   "cell_type": "markdown",
   "metadata": {},
   "source": [
    "# Physics 453 - Probability and Python Practice"
   ]
  },
  {
   "cell_type": "markdown",
   "metadata": {},
   "source": [
    "Quantum mechanics is all about $\\bf{probabilities}$.  In this class, we'll spend a lot of time learning that we usually cannot predict the exact values of a quantum particle's energy, momentum, position, etc. like we can in classical physics.  Instead, we'll obtain probability distributions (discrete or continuous) for these $\\bf{observables}$, so it's important to understand some basics about probability theory.  In this notebook, we'll review how to calculate and understand the $\\bf{mean}$, $\\bf{variance}$, and $\\bf{standard\\ deviation}$ of a set of data, as well as work with $\\bf{probability\\ distributions}$.\n",
    "\n",
    "This class will also involve computational assignments to help calculate and visualize quantum problems that just aren't feasible to solve with pencil and paper.  This Jupyter notebook is designed to touch on many of the programming concepts you'll need to understand in Python - variables, arrays, loops, plotting, and functions."
   ]
  },
  {
   "cell_type": "markdown",
   "metadata": {},
   "source": [
    "## Setup: Approximating $\\pi$"
   ]
  },
  {
   "cell_type": "markdown",
   "metadata": {},
   "source": [
    "The arena in which we'll review probability and Python is a very simple example of using random numbers to calculate something useful (also known as a Monte Carlo algorithm). \n",
    "\n",
    "Suppose you were trapped on a desert island and wanted to calculate the value of $\\pi$ because you are constructing a circular hut for shelter (or you are just very bored) .  You might remember the first few digits of $\\pi$, but you want a way to calculate it to higher accuracy using just the tools available on the island (sticks, rocks, certainly no calculators). There are actually tons of ways of doing this theoretically, but you want something really simple that will also help pass the time.\n",
    "\n",
    "Here's one way to do this.  Draw a square in the sand with sides of length $L$ and inscribe a circle in square, so that the circle has a radius of $r=L/2$.  Now, throw rocks into the square, and record whether or not they also land inside the circle.  Suppose you throw $N$ rocks, and $m$ of them land inside the circle.  If the rocks are equally likely to land anywhere in the square, then the ratio of $m$ to $N$ is approximately equal to the ratio of the areas of the circle and the square.\n",
    "\n",
    "$$\\frac{m}{N}\\approx \\frac{\\pi r^2}{L^2}=\\frac{\\pi}{4}$$\n",
    "\n",
    "Or\n",
    "\n",
    "$$\\pi \\approx \\frac{4m}{N}$$\n",
    "\n",
    "We expect that as we throw more and more rocks, this approximation should get better and better.  In the limit that we throw an infinite number of rocks, we should recover $\\pi$ exactly."
   ]
  },
  {
   "cell_type": "markdown",
   "metadata": {},
   "source": [
    "## Numerical Experiment"
   ]
  },
  {
   "cell_type": "markdown",
   "metadata": {},
   "source": [
    "We don't have to travel to a beach to do this experiment, since we can simulate it on a computer.  Here's some code that draws a square and circle to start you off.  We'll take $L=1$. First we import the libraries that we'll need - NumPy for math, and MatPlotLib for plotting."
   ]
  },
  {
   "cell_type": "code",
   "execution_count": 1,
   "metadata": {
    "collapsed": true
   },
   "outputs": [],
   "source": [
    "import numpy as np\n",
    "import matplotlib.pyplot as plt\n",
    "%matplotlib inline"
   ]
  },
  {
   "cell_type": "markdown",
   "metadata": {},
   "source": [
    "Then, we can make a simple plot that just shows our square with the inscribed circle. Note that plotting code often looks confusing, so don't worry if it isn't obvious what this code is doing - ask questions!"
   ]
  },
  {
   "cell_type": "code",
   "execution_count": 6,
   "metadata": {
    "collapsed": false
   },
   "outputs": [
    {
     "data": {
      "image/png": "[encoded data removed]",
      "text/plain": [
       "<matplotlib.figure.Figure at 0x15f2924a9e8>"
      ]
     },
     "metadata": {},
     "output_type": "display_data"
    }
   ],
   "source": [
    "plt.figure(figsize=(4,4))   #Create a new plot, with a size of 4x4\n",
    "ax = plt.gca()              #Get the axes of the current figure\n",
    "ax.add_artist(plt.Circle((0.5,0.5),0.5,fill=False))   #Use a special Matplotlib function to draw a circle, centered at (0.5,0.5) with radius 0.5\n",
    "plt.xlim([0,1])             #Make our plot look nice by limiting the axes to 0 to 1\n",
    "plt.ylim([0,1])\n",
    "ax.set_aspect('equal')      #Make sure the aspect ratio is even\n",
    "plt.show()                  #Actually show us the plot"
   ]
  },
  {
   "cell_type": "markdown",
   "metadata": {},
   "source": [
    "### Question 1"
   ]
  },
  {
   "cell_type": "markdown",
   "metadata": {},
   "source": [
    "In the code cell below, pick $N=1000$ random points in the square. (The [np.random.random(N)](https://docs.scipy.org/doc/numpy-1.13.0/reference/generated/numpy.random.random.html#numpy.random.random) function would be useful.)  For each point, calculate how far away it is from the center of the circle.  Using this information, obtain an estimate of the value of $\\pi$ with the method described above.  Print out the estimated value, and also make a plot that shows the square, circle, and your random points."
   ]
  },
  {
   "cell_type": "code",
   "execution_count": null,
   "metadata": {
    "collapsed": true
   },
   "outputs": [],
   "source": []
  },
  {
   "cell_type": "markdown",
   "metadata": {},
   "source": [
    "### Question 2"
   ]
  },
  {
   "cell_type": "markdown",
   "metadata": {},
   "source": [
    "Now write a function that takes $N$ (the number of random points chosen) as an argument and returns an approximation of $\\pi$ with the above method.  By turning the code from Question 1 into a function, we'll be able to easily call it repeatedly and with different values of $N$.  Call your function with $N=10000$ and print out the result."
   ]
  },
  {
   "cell_type": "code",
   "execution_count": null,
   "metadata": {
    "collapsed": true
   },
   "outputs": [],
   "source": []
  },
  {
   "cell_type": "markdown",
   "metadata": {},
   "source": [
    "### Question 3"
   ]
  },
  {
   "cell_type": "markdown",
   "metadata": {},
   "source": [
    "By now you've probably noticed that this method of calculating $\\pi$ is not very accurate. One way we can get a better answer is by repeatedly approximating $\\pi$ with $N$ samples.  If we collect $m$ results, we can take their average and use that for our approximation of $\\pi$.\n",
    "\n",
    "Write a function that takes two arguments, $m$ and $N$, and returns an array containin the $m$ approximations of $\\pi$. Call your function with $m=10$ and $N=1000$, and print out the array of results."
   ]
  },
  {
   "cell_type": "code",
   "execution_count": null,
   "metadata": {
    "collapsed": true
   },
   "outputs": [],
   "source": []
  },
  {
   "cell_type": "markdown",
   "metadata": {},
   "source": [
    "### Question 4"
   ]
  },
  {
   "cell_type": "markdown",
   "metadata": {},
   "source": [
    "For a given $N$, we can now easily obtain $m$ approximations of $\\pi$, the results of repeatedly running our square and circle algorithm. Looking at some statistical properties of these results will help us understand how our method of calculating $\\pi$ behaves, and also give us some practice in calculating means, variances, and standard deviations, all of which are very important in quantum mechanics.\n",
    "\n",
    "Given a set of data $x_i=[x_0,x_1,...,x_{N-1}]$, the mean, $\\mu$, the variance, $\\sigma^2$, and the standard deviation, $\\sigma$ are given by:\n",
    "\n",
    "$$\\mu=\\frac{1}{N}\\sum_i x_i$$\n",
    "$$\\sigma^2=\\frac{1}{N}\\sum_i (x_i-\\mu)^2$$\n",
    "\n",
    "Write two functions that take an array of data as inputs, and that return the mean and variance as results.  Use the function from Question 3 to get a set of results for $m=10$ and $N=1000$, and use your functions to calculate its mean and variance."
   ]
  },
  {
   "cell_type": "code",
   "execution_count": null,
   "metadata": {
    "collapsed": true
   },
   "outputs": [],
   "source": []
  },
  {
   "cell_type": "markdown",
   "metadata": {},
   "source": [
    "### Question 5"
   ]
  },
  {
   "cell_type": "markdown",
   "metadata": {},
   "source": [
    "As $N$ goes to infinity, our approximation of $\\pi$ should become exact.  This is equivalent to saying that the variance of the results should go to zero.  In equations, we might guess that the variance and standard deviation should go like\n",
    "$$\\sigma^2 \\approx \\frac{1}{N^a}$$\n",
    "$$\\sigma \\approx \\frac{1}{N^{a/2}}$$\n",
    "for some value of $a$.  Make plot of the log of the variance as a function of the log of $N$, for $N=100,1000,10000$ with $m=100$.  Based on this plot, what is the value of $a$ for our algorithm?  If I wanted to reduce the standard deviation, $\\sigma$, by a factor of two, how much do I have to increase $N$?"
   ]
  },
  {
   "cell_type": "code",
   "execution_count": null,
   "metadata": {
    "collapsed": true
   },
   "outputs": [],
   "source": []
  },
  {
   "cell_type": "markdown",
   "metadata": {},
   "source": [
    "### Question 6"
   ]
  },
  {
   "cell_type": "markdown",
   "metadata": {},
   "source": [
    "The below will make a histogram of the $m$ approximations of $\\pi$ obtained for various values of $N$.  You should only need to change one line to get the histogram, so that it acquires the data from your function that returns $m$ approximations of $\\pi$ obtained with $N$ samples each.  Use $m=1000$."
   ]
  },
  {
   "cell_type": "code",
   "execution_count": 7,
   "metadata": {
    "collapsed": false
   },
   "outputs": [
    {
     "ename": "SyntaxError",
     "evalue": "invalid syntax (<ipython-input-7-bb0017aa3f12>, line 8)",
     "output_type": "error",
     "traceback": [
      "\u001b[0;36m  File \u001b[0;32m\"<ipython-input-7-bb0017aa3f12>\"\u001b[0;36m, line \u001b[0;32m8\u001b[0m\n\u001b[0;31m    estimates = #This is the line you need to change!!\u001b[0m\n\u001b[0m                                                      ^\u001b[0m\n\u001b[0;31mSyntaxError\u001b[0m\u001b[0;31m:\u001b[0m invalid syntax\n"
     ]
    }
   ],
   "source": [
    "plt.figure(figsize=(6,6))\n",
    "samples = [100,1000,10000]\n",
    "variances = []\n",
    "colors = ['blue','green','purple']\n",
    "for i in range(0,len(samples)):\n",
    "    N=samples[i]\n",
    "    color=colors[i]\n",
    "    estimates = #This is the line you need to change!!\n",
    "    n, bins, patches = plt.hist(estimates, bins=10, normed=1, alpha=0.5, label=\"N=\"+str(N),color=color)\n",
    "plt.plot([np.pi,np.pi],[0,30],'--',color='black')\n",
    "plt.xlim([2.8,3.4])\n",
    "plt.ylim([0,30])\n",
    "plt.legend()\n",
    "plt.show()"
   ]
  },
  {
   "cell_type": "markdown",
   "metadata": {},
   "source": [
    "### Question 7"
   ]
  },
  {
   "cell_type": "markdown",
   "metadata": {},
   "source": [
    "According to the [Central Limit Theorem](https://en.wikipedia.org/wiki/Central_limit_theorem), the distribution of our approximations to $\\pi$ should tend towards a normal distribution as $m$ increases.  That means that our histograms should roughly look like gaussian probability distributions.\n",
    "$$P(x)=\\frac{1}{\\sqrt{2\\pi \\sigma^2}}e^{-(x-\\mu)^2/2\\sigma^2}$$\n",
    "Repeat the plot you made in Question 6, but add the apprpriate Gaussian probability distribution curve for each value of $N$. Also add vertical lines for each value of $N$ that mark the positions $x_L=\\mu-\\sigma$ and $x_H=\\mu+\\sigma$.  In the limit of $m$ goes to infinity, what is the probability of getting an approximation of $\\pi$ that is between $x_L$ and $x_H$? (You might want to look at the Wiki page for [normal distributions](https://en.wikipedia.org/wiki/Normal_distribution), under the standard deviation section.)"
   ]
  },
  {
   "cell_type": "code",
   "execution_count": null,
   "metadata": {
    "collapsed": true
   },
   "outputs": [],
   "source": []
  }
 ],
 "metadata": {
  "kernelspec": {
   "display_name": "Python 3",
   "language": "python",
   "name": "python3"
  },
  "language_info": {
   "codemirror_mode": {
    "name": "ipython",
    "version": 3
   },
   "file_extension": ".py",
   "mimetype": "text/x-python",
   "name": "python",
   "nbconvert_exporter": "python",
   "pygments_lexer": "ipython3",
   "version": "3.4.3"
  }
 },
 "nbformat": 4,
 "nbformat_minor": 2
}

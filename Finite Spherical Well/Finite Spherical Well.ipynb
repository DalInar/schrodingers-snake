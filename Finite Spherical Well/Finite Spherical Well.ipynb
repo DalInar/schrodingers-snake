{
 "cells": [
  {
   "cell_type": "markdown",
   "metadata": {},
   "source": [
    "# Physics 453: Finite Spherical Well"
   ]
  },
  {
   "cell_type": "markdown",
   "metadata": {},
   "source": [
    "You've learned about how to solve the Schrodinger equation in 3 dimensions for spherically symmetric potentials, $V(\\vec{r})=V(r)$, by using spherical coordinates and searching for a separable solution. As shown in Chapter 4 of Griffiths, the angular part of the solution does not depend on the details of the solutions, and is given by one of the *spherical harmonics*.  The real problem is to solve the *radial equation*, which when we switch variables to $u(r)=rR(r)$ is given by:\n",
    "$$-\\frac{\\hbar^2}{2m} \\frac{d^2u}{dr^2}+\\left[ V(r)+\\frac{\\hbar^2}{2m}\\frac{l(l+1)}{r^2}\\right]u=Eu$$"
   ]
  },
  {
   "cell_type": "markdown",
   "metadata": {},
   "source": [
    "Where $k=\\sqrt{(E-V)2m}/\\hbar$. As noted by Equation [4.45] in Griffiths, the general solution to this equation when $V(R)=V$ is constant is\n",
    "$$ u(r)=Arj_l(kr)+Brn_l(kr)$$\n",
    "where $j_l(x)$ is the spherical Bessel function (of the first kind) of order $l$ and $n_l(x)$ is the spherical Neumann function (or Bessel function of the second kind) of order $l$. When we are looking for the solution is a region of space where the wavefunction should decay (ie, $E<V$), then we should use Hankel functions, which are just linear combinations of the Bessel and Neumann functions. See the first Reference for more about Hankel functions."
   ]
  },
  {
   "cell_type": "markdown",
   "metadata": {},
   "source": [
    "### References\n",
    "More about choosing the right special functions for each region: http://quantummechanics.ucsd.edu/ph130a/130_notes/node225.html\n",
    "\n",
    "How to get Bessel, Hankel, etc. functions (and their derivatives!) in Python: https://docs.scipy.org/doc/scipy/reference/special.html\n",
    "\n",
    "How to use brentq from SciPy: https://docs.scipy.org/doc/scipy-0.14.0/reference/generated/scipy.optimize.brentq.html"
   ]
  },
  {
   "cell_type": "markdown",
   "metadata": {},
   "source": [
    "### Finite Spherical Well\n",
    "In this notebook you are going to find the bound state solutions to the finite spherical well for arbitrary $l$.  The potential is given by $V(r)=-|V|$ for $r<=a$, and $V(r)=0$ for $r>a$.  Applying the wavefunction boundary conditions at $r=a$ will result in a transcendental equation, which we need to solve numerically.\n",
    "\n",
    "We will use the following parameters:\n",
    "$$\\hbar=m=1$$\n",
    "$$a=2$$\n",
    "$$V=-10$$"
   ]
  },
  {
   "cell_type": "markdown",
   "metadata": {},
   "source": [
    "#### Question 1\n",
    "The first step is to derive the transcendental equation the arises from the boundary conditions for the finite spherical well.  Do this on paper and write the transcendental equation you found in the box below. (You don't have to hand in your written work.)"
   ]
  },
  {
   "cell_type": "markdown",
   "metadata": {},
   "source": [
    "*Write your result here!*"
   ]
  },
  {
   "cell_type": "markdown",
   "metadata": {},
   "source": [
    "Now let's get to coding.  First we'll load the libraries we'll need."
   ]
  },
  {
   "cell_type": "code",
   "execution_count": 1,
   "metadata": {
    "collapsed": true
   },
   "outputs": [],
   "source": [
    "%matplotlib notebook\n",
    "import matplotlib\n",
    "import matplotlib.pyplot as plt \n",
    "import numpy\n",
    "import scipy.special    #Contains the bessel, neumann, and hankel function methods\n",
    "import scipy.optimize   #Contains brentq, the root finding algorithm we'll use"
   ]
  },
  {
   "cell_type": "code",
   "execution_count": 2,
   "metadata": {
    "collapsed": true
   },
   "outputs": [],
   "source": [
    "hbar=1\n",
    "m=1\n",
    "a=2\n",
    "V=-10"
   ]
  },
  {
   "cell_type": "markdown",
   "metadata": {},
   "source": [
    "#### Question 2"
   ]
  },
  {
   "cell_type": "markdown",
   "metadata": {},
   "source": [
    "Let's get comfortable with using the special function methods from scipy.  Make a plot of the $l=0,1,2$ Bessel functions (of the first kind) *and* their derivatives over $x=0..10$. (Hint: Take a look at the second reference.)"
   ]
  },
  {
   "cell_type": "code",
   "execution_count": 1,
   "metadata": {
    "collapsed": false
   },
   "outputs": [],
   "source": [
    "#Make a plot!\n"
   ]
  },
  {
   "cell_type": "markdown",
   "metadata": {},
   "source": [
    "#### Question 3\n",
    "The transcendental equation you derived should have the form:\n",
    "$$f_l(E) = g_l(E)$$\n",
    "That is, some function of the energy on both sides, with $l$ as a parameter. The energies, $E$, that satisfy this equation (for the given angular momentum $l$) are the bound state energies.  Alternatively, we can form a new function:\n",
    "$$Q_l(E) = f_l(E)-g_l(E)$$\n",
    "Now the energies that we seek are the roots of $Q_l(E)$, ie. $Q_l(E)=0$.\n",
    "\n",
    "Write a function, called *boundary_function*, that takes $E$ and $l$ as arguments and returns the value of $Q_l(E)$. (You may also want to write short helper functions that calculate the value of $k$ in either region.)\n",
    "\n",
    "Then make a plot of $Q_{l=0}(E)$ for $E=-|V|..0$.  Does $Q_l$ have an imaginary part?  How many bound states are there for $l=0$, and what are their approximate energies? Note: you may get some error messages below the plot about dividing by zero.  Don't worry about them, they are just the result of trying to plot where the curve blows up to positive or negative infinity."
   ]
  },
  {
   "cell_type": "code",
   "execution_count": 2,
   "metadata": {
    "collapsed": true
   },
   "outputs": [],
   "source": [
    "#Fix these two functions\n",
    "def k1(E):\n",
    "    return E\n",
    "\n",
    "def k2(E):\n",
    "    return E\n",
    "\n",
    "#Getting the hankel functions from SciPy is a bit complex, so I've provided these functions to calculate\n",
    "#the hankel function and it's first derivative.  However, you can get the bessel functions (and their derivatives) easily\n",
    "#from the SciPy library\n",
    "def hankel(l, z):\n",
    "    return numpy.sqrt(numpy.pi/(2*z))*scipy.special.h1vp(l+0.5,z,0)\n",
    "    #return numpy.sqrt(numpy.pi/(2*z))*( scipy.special.jvp(l+0.5,z,n) + 1j*scipy.special.yvp(l+0.5,z,n) )\n",
    "    \n",
    "def hankel_deriv(l, z):\n",
    "    return numpy.sqrt(numpy.pi/(2*z))*scipy.special.h1vp(l+0.5,z,1) - 0.5*(1./z)*numpy.sqrt(numpy.pi/(2*z))*scipy.special.h1vp(l+0.5,z,0)\n",
    "  \n",
    "#transcendental equation arising from matching boundary conditions for finite spherical well\n",
    "def boundary_function(E, l):\n",
    "    \n",
    "    left = 2 #What is the left side of the transcendental equation?\n",
    "    right = 3 #What is the right side?\n",
    "    \n",
    "    return (left-right).real\n",
    "\n",
    "\n",
    "#Make a plot"
   ]
  },
  {
   "cell_type": "markdown",
   "metadata": {},
   "source": [
    "*Write the written part of the answer here*"
   ]
  },
  {
   "cell_type": "markdown",
   "metadata": {},
   "source": [
    "#### Question 4\n",
    "You should have seen that $Q_l(E)$ is a purely real function, so modify your function to return only the real part. (Note: probably you'll see a very small imaginary part; this is due to numerical error, and is why we need to explicitly return the real part.)\n",
    "\n",
    "You can eyeball the energies from the plot, but we want to do better than that.  We'll start off by writing a function that takes a range of energies and return a list of pairs of energies, $(E-dE, E)$, between which there is a zero of $Q_l(E)$ (or equivalently, between which $Q_l(E)$ changes sign).  Do the results for $l=0$ seem to agree with your plot?"
   ]
  },
  {
   "cell_type": "code",
   "execution_count": 1,
   "metadata": {
    "collapsed": false
   },
   "outputs": [
    {
     "ename": "NameError",
     "evalue": "name 'V' is not defined",
     "output_type": "error",
     "traceback": [
      "\u001b[0;31m---------------------------------------------------------------------------\u001b[0m",
      "\u001b[0;31mNameError\u001b[0m                                 Traceback (most recent call last)",
      "\u001b[0;32m<ipython-input-1-f6a3ea539277>\u001b[0m in \u001b[0;36m<module>\u001b[0;34m()\u001b[0m\n\u001b[1;32m      9\u001b[0m \u001b[1;33m\u001b[0m\u001b[0m\n\u001b[1;32m     10\u001b[0m \u001b[1;31m#Sweep through energies in steps on dE, starting from the lowest possible energy (V=-|V|) to the highest (0)\u001b[0m\u001b[1;33m\u001b[0m\u001b[1;33m\u001b[0m\u001b[0m\n\u001b[0;32m---> 11\u001b[0;31m \u001b[0mdE\u001b[0m \u001b[1;33m=\u001b[0m \u001b[0mabs\u001b[0m\u001b[1;33m(\u001b[0m\u001b[0mV\u001b[0m\u001b[1;33m)\u001b[0m\u001b[1;33m/\u001b[0m\u001b[1;36m1000\u001b[0m\u001b[1;33m\u001b[0m\u001b[0m\n\u001b[0m\u001b[1;32m     12\u001b[0m \u001b[0menergy_range\u001b[0m \u001b[1;33m=\u001b[0m \u001b[0mnumpy\u001b[0m\u001b[1;33m.\u001b[0m\u001b[0marange\u001b[0m\u001b[1;33m(\u001b[0m\u001b[0mV\u001b[0m\u001b[1;33m,\u001b[0m \u001b[1;36m0\u001b[0m\u001b[1;33m,\u001b[0m \u001b[0mdE\u001b[0m\u001b[1;33m)\u001b[0m\u001b[1;33m\u001b[0m\u001b[0m\n\u001b[1;32m     13\u001b[0m \u001b[1;33m\u001b[0m\u001b[0m\n",
      "\u001b[0;31mNameError\u001b[0m: name 'V' is not defined"
     ]
    }
   ],
   "source": [
    "#Implement this function!\n",
    "def acquire_zero_bounds(energy_range, l): \n",
    "    zeros_list=[]  #Add energy pairs to list list if we think there is a zero in between them\n",
    "    value = boundary_function(energy_range[0],l)  #Get the starting value of boundary_function\n",
    "    \n",
    "    #Write some code to find the pairs of energies between which there is a zero - this is the only part of this code cell you need to change\n",
    "    \n",
    "    return zeros_list\n",
    "\n",
    "#Sweep through energies in steps on dE, starting from the lowest possible energy (V=-|V|) to the highest (0)\n",
    "dE = abs(V)/1000\n",
    "energy_range = numpy.arange(V, 0, dE)\n",
    "\n",
    "#Finding solutions of this angular momentum quantum number, l\n",
    "l=0\n",
    "\n",
    "energy_bounds = acquire_zero_bounds(energy_range, l)\n",
    "print(energy_bounds)\n"
   ]
  },
  {
   "cell_type": "markdown",
   "metadata": {},
   "source": [
    "#### Question 5\n",
    "Now we know the correct energies to within a small $\\Delta E$. Now we can use a very nice root finding algorithm, called *brentq*, to find the zero to a very high degree of accuracy.  All the algorithm needs is the function, any extra arguments that it takes, and a sign-changing interval (which we just found!)\n",
    "\n",
    "Use SciPy's brentq method to find the (numerically) exact bound state energies. (You should look at the online documentation for brentq!)"
   ]
  },
  {
   "cell_type": "code",
   "execution_count": 32,
   "metadata": {
    "collapsed": false
   },
   "outputs": [
    {
     "ename": "TypeError",
     "evalue": "brentq() missing 3 required positional arguments: 'f', 'a', and 'b'",
     "output_type": "error",
     "traceback": [
      "\u001b[1;31m--------------------------------------------------------------------------\u001b[0m",
      "\u001b[1;31mTypeError\u001b[0m                                Traceback (most recent call last)",
      "\u001b[1;32m<ipython-input-32-a978167cb2b4>\u001b[0m in \u001b[0;36m<module>\u001b[1;34m()\u001b[0m\n\u001b[0;32m      4\u001b[0m     \u001b[1;32mreturn\u001b[0m \u001b[0menergies\u001b[0m\u001b[1;33m\u001b[0m\u001b[0m\n\u001b[0;32m      5\u001b[0m \u001b[1;33m\u001b[0m\u001b[0m\n\u001b[1;32m----> 6\u001b[1;33m \u001b[0menergies\u001b[0m \u001b[1;33m=\u001b[0m \u001b[0macquire_energies\u001b[0m\u001b[1;33m(\u001b[0m\u001b[0menergy_bounds\u001b[0m\u001b[1;33m,\u001b[0m \u001b[0ml\u001b[0m\u001b[1;33m)\u001b[0m\u001b[1;33m\u001b[0m\u001b[0m\n\u001b[0m",
      "\u001b[1;32m<ipython-input-32-a978167cb2b4>\u001b[0m in \u001b[0;36macquire_energies\u001b[1;34m(energy_bounds, l)\u001b[0m\n\u001b[0;32m      1\u001b[0m \u001b[1;32mdef\u001b[0m \u001b[0macquire_energies\u001b[0m\u001b[1;33m(\u001b[0m\u001b[0menergy_bounds\u001b[0m\u001b[1;33m,\u001b[0m \u001b[0ml\u001b[0m\u001b[1;33m)\u001b[0m\u001b[1;33m:\u001b[0m\u001b[1;33m\u001b[0m\u001b[0m\n\u001b[0;32m      2\u001b[0m     \u001b[0menergies\u001b[0m \u001b[1;33m=\u001b[0m \u001b[1;33m[\u001b[0m\u001b[1;33m]\u001b[0m\u001b[1;33m\u001b[0m\u001b[0m\n\u001b[1;32m----> 3\u001b[1;33m     \u001b[0menergies\u001b[0m\u001b[1;33m.\u001b[0m\u001b[0mappend\u001b[0m\u001b[1;33m(\u001b[0m \u001b[0mscipy\u001b[0m\u001b[1;33m.\u001b[0m\u001b[0moptimize\u001b[0m\u001b[1;33m.\u001b[0m\u001b[0mbrentq\u001b[0m\u001b[1;33m(\u001b[0m\u001b[1;33m)\u001b[0m \u001b[1;33m)\u001b[0m \u001b[1;31m#What should the arguments be?\u001b[0m\u001b[1;33m\u001b[0m\u001b[0m\n\u001b[0m\u001b[0;32m      4\u001b[0m     \u001b[1;32mreturn\u001b[0m \u001b[0menergies\u001b[0m\u001b[1;33m\u001b[0m\u001b[0m\n\u001b[0;32m      5\u001b[0m \u001b[1;33m\u001b[0m\u001b[0m\n",
      "\u001b[1;31mTypeError\u001b[0m: brentq() missing 3 required positional arguments: 'f', 'a', and 'b'"
     ]
    }
   ],
   "source": [
    "def acquire_energies(energy_bounds, l):\n",
    "    energies = []\n",
    "    for energy_bound in energy_bounds:\n",
    "        energies.append( scipy.optimize.brentq() ) #What should the arguments of brentq be?\n",
    "    return energies\n",
    "\n",
    "energies = acquire_energies(energy_bounds, l)"
   ]
  },
  {
   "cell_type": "markdown",
   "metadata": {},
   "source": [
    "#### Question 6\n",
    "Now that we have the right energies, we need to construct the wavefunctions.  Write a function that takes the energies, a list of radii (positions), and the value of $l$ and returns a list of the wavefunctions for the possible bound states.  Also write a function that properly normalizes the wavefunction. (Remember that this is a radial wavefunction is spherical coordinates, so the norm looks a bit diferent!)  "
   ]
  },
  {
   "cell_type": "code",
   "execution_count": 2,
   "metadata": {
    "collapsed": false
   },
   "outputs": [
    {
     "ename": "NameError",
     "evalue": "name 'numpy' is not defined",
     "output_type": "error",
     "traceback": [
      "\u001b[0;31m---------------------------------------------------------------------------\u001b[0m",
      "\u001b[0;31mNameError\u001b[0m                                 Traceback (most recent call last)",
      "\u001b[0;32m<ipython-input-2-769f1b20eafe>\u001b[0m in \u001b[0;36m<module>\u001b[0;34m()\u001b[0m\n\u001b[1;32m      2\u001b[0m \u001b[0mdr\u001b[0m\u001b[1;33m=\u001b[0m\u001b[1;36m0.01\u001b[0m\u001b[1;33m\u001b[0m\u001b[0m\n\u001b[1;32m      3\u001b[0m \u001b[0mmax_r\u001b[0m \u001b[1;33m=\u001b[0m \u001b[1;36m6\u001b[0m\u001b[1;33m\u001b[0m\u001b[0m\n\u001b[0;32m----> 4\u001b[0;31m \u001b[0mspace\u001b[0m \u001b[1;33m=\u001b[0m \u001b[0mnumpy\u001b[0m\u001b[1;33m.\u001b[0m\u001b[0marange\u001b[0m\u001b[1;33m(\u001b[0m\u001b[1;36m0\u001b[0m\u001b[1;33m,\u001b[0m \u001b[0mmax_r\u001b[0m\u001b[1;33m,\u001b[0m \u001b[0mdr\u001b[0m\u001b[1;33m)\u001b[0m\u001b[1;33m\u001b[0m\u001b[0m\n\u001b[0m\u001b[1;32m      5\u001b[0m \u001b[0minner\u001b[0m \u001b[1;33m=\u001b[0m \u001b[0mspace\u001b[0m \u001b[1;33m<=\u001b[0m \u001b[0ma\u001b[0m\u001b[1;33m\u001b[0m\u001b[0m\n\u001b[1;32m      6\u001b[0m \u001b[0mouter\u001b[0m \u001b[1;33m=\u001b[0m \u001b[0mspace\u001b[0m \u001b[1;33m>\u001b[0m \u001b[0ma\u001b[0m\u001b[1;33m\u001b[0m\u001b[0m\n",
      "\u001b[0;31mNameError\u001b[0m: name 'numpy' is not defined"
     ]
    }
   ],
   "source": [
    "#Plot each solution found for the given l\n",
    "dr=0.01\n",
    "max_r = 6\n",
    "space = numpy.arange(0, max_r, dr)\n",
    "inner = space <= a\n",
    "outer = space > a\n",
    "\n",
    "#Normalize the radial part of the wavefunction - Remember the r^2!\n",
    "def normalize(psi, space, dr):\n",
    "    norm = 1 #What should go here?\n",
    "    return psi / numpy.sqrt(norm)\n",
    "\n",
    "def get_wavefunctions(space, energies, l):\n",
    "    psis=[]\n",
    "    for energy in energies:\n",
    "        psi = numpy.zeros(len(space), complex)\n",
    "        #How do we calcualte psi?\n",
    "        psi[outer] = space[outer]   #Examples of array masking, but you'll need to replace these examples!\n",
    "        psi[inner] = space[inner]\n",
    "        \n",
    "        psis.append(normalize(psi,space,dr))\n",
    "        \n",
    "    return psis"
   ]
  },
  {
   "cell_type": "markdown",
   "metadata": {},
   "source": [
    "#### Question 7\n",
    "This code will make a plot of the radial probability distribution, $RPD$, for all bound states for $l=0$.  It then creates an energy level diagram for all bound state energies for $l=0,1,2$, and color codes the lines based on $l$.\n",
    "$$RPD = |R|^2r^2$$\n",
    "For this choice of well parameters, what is the value of $l$ for the ground state and the highest energy bound state?"
   ]
  },
  {
   "cell_type": "code",
   "execution_count": null,
   "metadata": {
    "collapsed": false
   },
   "outputs": [],
   "source": [
    "# Get all the bound state wavefunctions for l=0 and plot them\n",
    "plt.figure()\n",
    "\n",
    "wavefunctions = get_wavefunctions(space, energies, l)\n",
    "for i in range(0,len(wavefunctions)):\n",
    "    plt.plot(space, (numpy.conjugate(wavefunctions[i])*wavefunctions[i]*space*space).real, label=\"E=\"+str(\"%.2f\" % energies[i]))\n",
    "    \n",
    "plt.xlabel('r')\n",
    "plt.ylabel(r'$|R|^2r^2$')\n",
    "plt.title('Bound States of Finite Spherical Well for l='+str(l))\n",
    "plt.legend()\n",
    "plt.show()\n",
    "\n",
    "#Make an energy level diagram for l=0,1,2.  I've already started by drawing the potential, just draw the energy levels on top of it.\n",
    "plt.figure()\n",
    "plt.plot([0,a],[V,V], 'k', label=\"Potential\")\n",
    "plt.plot([a,a],[V,0], 'k')\n",
    "plt.plot([a,max_r],[0,0], 'k')\n",
    "\n",
    "colors = ['blue','red', 'green', 'purple', 'orange']\n",
    "for l_new in [0,1,2]:\n",
    "    bounds_new = acquire_zero_bounds(energy_range, l_new)\n",
    "    energies_new = acquire_energies(bounds_new, l_new)\n",
    "    for energy in energies_new:\n",
    "        plt.plot([0,a],[energy,energy], color=colors[l_new], lw=3, label=\"l=\"+str(l_new))\n",
    "\n",
    "plt.legend()\n",
    "plt.title('Energy Level Diagram for Finite Spherical Well')\n",
    "plt.xlabel('r')\n",
    "plt.ylabel('Energy')\n",
    "plt.ylim([-12,5])\n",
    "plt.show()"
   ]
  },
  {
   "cell_type": "markdown",
   "metadata": {
    "collapsed": true
   },
   "source": [
    "Write answer to question 7 here."
   ]
  },
  {
   "cell_type": "code",
   "execution_count": null,
   "metadata": {
    "collapsed": true
   },
   "outputs": [],
   "source": []
  }
 ],
 "metadata": {
  "anaconda-cloud": {},
  "kernelspec": {
   "display_name": "Python 3",
   "language": "python",
   "name": "python3"
  },
  "language_info": {
   "codemirror_mode": {
    "name": "ipython",
    "version": 3
   },
   "file_extension": ".py",
   "mimetype": "text/x-python",
   "name": "python",
   "nbconvert_exporter": "python",
   "pygments_lexer": "ipython3",
   "version": "3.6.0"
  }
 },
 "nbformat": 4,
 "nbformat_minor": 0
}

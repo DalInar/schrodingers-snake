{
 "cells": [
  {
   "cell_type": "markdown",
   "metadata": {},
   "source": [
    "# Phys 453: Gaussian Wavepacket "
   ]
  },
  {
   "cell_type": "markdown",
   "metadata": {},
   "source": [
    "Given the state of a system at $t=0$, how will the system evolve over time?  This is one of the most fundamental and important questions one can ask in physics.  Afterall, the point of a theory is to make predictions that an experiment can test.  In quantum mechanics the state of a system  at $t=0$ is given by the wavefunction, $\\Psi(x,0)$, and in order to make predictions we need some way to calculate the wavefunction at other times, $\\Psi(x,t)$.   This allows us to make predictions like: \n",
    "1. How likely is the particle to stay in a particular place?  \n",
    "2. How does the system respond to perturbations?\n",
    "3. How do observables like energy, spin, momentum, magnetization, etc. change in time?\n",
    "\n",
    "As described in Griffiths, Section 2.4, and explored in Griffiths Problem 2.22, one convenient way of obtaining $\\Psi(x,t)$ from $\\Psi(x,0)$ for a free particle is via Fourier Transforms. The logic goes like this - we know that the energy eigenstates of the free particle are given by plane waves, and are characterized by a momentum, $k$.\n",
    "$$\\Psi_k(x,t) \\approx \\exp\\left( i(kx-\\frac{\\hbar k^2}{2m}t)\\right), \\; E_k=\\frac{\\hbar^2 k^2}{2m}$$\n",
    "So at $t=0$, we have a complete set of states, $\\Psi_k(x,0)$, for which we can easily add their time dependence and that we can superimpose to create any other arbitrary state, $\\Psi(x,0)$.  If the weight of eigenstate $\\Psi_k=e^{ikx}$ in the superposition is $\\phi(k)$, then we can write the superposition as\n",
    "$$\\Psi(x,0)=\\frac{1}{\\sqrt{2\\pi}}\\int_{-\\infty}^{\\infty}\\phi(k)e^{ikx}dk$$\n",
    "Given $\\Psi(x,0)$, the goal is then to find $\\phi(k)$, which can be done via a Fourier Transform\n",
    "$$\\phi(k)=\\frac{1}{\\sqrt{2\\pi}}\\int_{-\\infty}^{\\infty}\\Psi(x,0)e^{-ikx}dx$$\n",
    "Once we know $\\phi(k)$, the Fourier Transform of $\\Psi(x,0)$, we can easily add on the time dependence of each eigenstate and transform back to obtain $\\Psi(x,t)$.\n",
    "$$\\Psi(x,t)=\\frac{1}{\\sqrt{2\\pi}}\\int_{-\\infty}^{\\infty}\\phi(k)e^{ i(kx-\\frac{\\hbar k^2}{2m}t)}dk$$\n",
    "So, the recipe of calculating $\\Psi(x,t)$ from $\\Psi(x,0)$ is\n",
    "1. Fourier transform $\\Psi(x,0)$ to get $\\phi(k)$\n",
    "2. Add on the time-dependence, $\\phi(k,t)=\\phi(k)e^{ i\\frac{\\hbar k^2}{2m}t}$\n",
    "3. Inverse Fourier Transform $\\phi(k,t)$ to get $\\Phi(x,t)$\n",
    "\n",
    "One good example of this procedure is the time evolution of a Gaussian wavepacket. Griffiths Problem 2.22 shows you how to do this analytically, and this notebook will teach you how to do it computationally.  The Gaussian wavepacket provides a good testing ground, but a nice thing about the computational solution is that it can be applied to any initial $\\Psi(x,0)$. This is quite valuable, since the integrals involved in the analytic solution are typically quite difficult, usually unsolvable, for anything more complex than a Gaussian. \n"
   ]
  },
  {
   "cell_type": "markdown",
   "metadata": {},
   "source": [
    "## Time Evolution of a Gaussian Wavepacket"
   ]
  },
  {
   "cell_type": "markdown",
   "metadata": {},
   "source": [
    "Our $\\Psi(x,0)$ will be given by a Gaussian,\n",
    "$$\\Psi(x,0) = Ae^{-ax^2}$$\n",
    "We'll set $a=m=\\hbar=1$.  Our domain for the computational solution will be a grid from $x=-20$ to $x=20$, with 400 grid points.  I'll start you off by loading the necessary libraries, making the grid in $x$ and $k$, and defining $\\Psi(x,0)$."
   ]
  },
  {
   "cell_type": "code",
   "execution_count": 2,
   "metadata": {
    "collapsed": true
   },
   "outputs": [],
   "source": [
    "%matplotlib notebook   \n",
    "import matplotlib.pyplot as plt \n",
    "import numpy    "
   ]
  },
  {
   "cell_type": "code",
   "execution_count": 3,
   "metadata": {
    "collapsed": false
   },
   "outputs": [],
   "source": [
    "N=400      #Number of grid points\n",
    "L=20\n",
    "dx = 2.*L/N\n",
    "x = numpy.arange(-L,L,dx)   #Define a grid from x=-L to x=L, with spacing 2L/N \n",
    "x_exact = numpy.arange(-L,L,4*dx)  #Sparser grid, used only by animation, to plot exact solution (so that you can see the exact and numerical solutions)\n",
    "a=1\n",
    "m=1\n",
    "hbar=1\n",
    "psi_0 = numpy.exp(-a*x**2)\n",
    "psi_0 = psi_0 / numpy.sqrt(dx*sum(numpy.conjugate(psi_0)*psi_0))"
   ]
  },
  {
   "cell_type": "markdown",
   "metadata": {},
   "source": [
    "### Question 1\n",
    "In Griffiths Problem 2.22, the exact solution for the time evolution of this Gaussian is found.  Use that solution to finish this function, which takes $a$, the grid $x$, and the time $t$ and returns $\\Psi_{exact}(x,t)$."
   ]
  },
  {
   "cell_type": "code",
   "execution_count": 8,
   "metadata": {
    "collapsed": true
   },
   "outputs": [],
   "source": [
    "def exact_solution(a, x, t):\n",
    "    return x #Fill in the exact solution"
   ]
  },
  {
   "cell_type": "markdown",
   "metadata": {},
   "source": [
    "### Question 2\n",
    "In order to apply the time dependence to the wavefunction, you need to know the momenta, $k$, for each eigenstate in the superposition.  Only then will you be able to calculate the phase factor in $\\phi(k,t)=\\phi(k)e^{ i\\frac{\\hbar k^2}{2m}t}$.  Use the fftfreq function to get an array of these momenta."
   ]
  },
  {
   "cell_type": "code",
   "execution_count": 9,
   "metadata": {
    "collapsed": true
   },
   "outputs": [],
   "source": [
    "k =  1  #Get the momenta used by the FFT function"
   ]
  },
  {
   "cell_type": "markdown",
   "metadata": {},
   "source": [
    "### Question 3\n",
    "Now the real heart of the problem.  Finish this function that returns $\\Psi(x,t)$, given $k$, $\\Psi(x,0)$, and the time $t$. Do this by using the numpy fft and ifft routines to calculate $\\phi(k)$, then $\\phi(k,t)=\\phi(k)e^{ -i\\frac{\\hbar k^2}{2m}t}$, and finally transform back to get $\\Psi(x,t)$.  \n",
    "\n",
    "Note: I've calculated $\\phi(k)$ for you!  You only need to finish the two lines for $\\phi(k,t)$ and $\\Psi(x,t)$."
   ]
  },
  {
   "cell_type": "code",
   "execution_count": 10,
   "metadata": {
    "collapsed": false
   },
   "outputs": [
    {
     "ename": "SyntaxError",
     "evalue": "invalid syntax (<ipython-input-10-d0e41e713239>, line 3)",
     "output_type": "error",
     "traceback": [
      "\u001b[1;36m  File \u001b[1;32m\"<ipython-input-10-d0e41e713239>\"\u001b[1;36m, line \u001b[1;32m3\u001b[0m\n\u001b[1;33m    psi_k_t =      #Apply the time dependence\u001b[0m\n\u001b[1;37m                                             ^\u001b[0m\n\u001b[1;31mSyntaxError\u001b[0m\u001b[1;31m:\u001b[0m invalid syntax\n"
     ]
    }
   ],
   "source": [
    "def time_evolve(k, psi_x, t):\n",
    "    psi_k = numpy.fft.fft(psi_x)               #Transform into momentum space\n",
    "    psi_k_t =      #Apply the time dependence\n",
    "    psi_x_t =           #Transform back into real space\n",
    "    return psi_x_t"
   ]
  },
  {
   "cell_type": "markdown",
   "metadata": {},
   "source": [
    "### Question 4\n",
    "Alright, now I'm going to use your functions to animate the time evolution of the Gaussian wavepacket.  You'll see the real and imaginary parts of the wavefunction, as well as the probability density, $|\\Psi(x,t)|^2$.  The dots are the exact solution, and the lines are the numerical solution.  \n",
    "\n",
    "Below the graphs, comment on the following:\n",
    "1. Do the analytical and numerical solutions agree?\n",
    "2. Do you think the animation is accurate for all times? Why or why not?\n",
    "\n",
    "Tip: In the animation code, there is a variable \"time per frame\" that you can increase or descrease to speed up or slow down the animation."
   ]
  },
  {
   "cell_type": "code",
   "execution_count": null,
   "metadata": {
    "collapsed": false
   },
   "outputs": [],
   "source": [
    "import matplotlib.animation as animation\n",
    "  \n",
    "# create a figure with two subplots\n",
    "fig, (ax1, ax2, ax3) = plt.subplots(3,1)\n",
    "\n",
    "# intialize two line objects (one in each axes)\n",
    "line1, = ax1.plot([], [], lw=2)\n",
    "line4, = ax1.plot([], [], 'o')\n",
    "line2, = ax2.plot([], [], lw=2, color='g')\n",
    "line5, = ax2.plot([], [], 'o', color='g')\n",
    "line3, = ax3.plot([], [], lw=2, color='r')\n",
    "line6, = ax3.plot([], [], 'o', color='r')\n",
    "line = [line1, line2, line3, line4, line5, line6]\n",
    "\n",
    "# the same axes initalizations as before (just now we do it for both of them)\n",
    "ax1.set_ylim(-1,1)\n",
    "ax1.set_xlim(-L, L)\n",
    "ax1.grid()\n",
    "ax1.set_ylabel(\"Re(Wavefunction)\")\n",
    "ax1.set_title(\"Evolution of Wavefunction and Probability Density in real space\")\n",
    "\n",
    "ax2.set_ylim(-1,1)\n",
    "ax2.set_xlim(-L, L)\n",
    "ax2.grid()\n",
    "ax2.set_ylabel(\"Im(Wavefunction)\")\n",
    "\n",
    "ax3.set_ylim(0, 1)\n",
    "ax3.set_xlim(-L, L)\n",
    "ax3.grid()\n",
    "ax3.set_xlabel(\"x\")\n",
    "ax3.set_ylabel(\"Probability Density\")\n",
    "\n",
    "time_text = ax1.text(0.05, 0.95,'',horizontalalignment='left',verticalalignment='top', transform=ax1.transAxes)\n",
    "norm_text = ax1.text(0.05, 0.85,'',horizontalalignment='left',verticalalignment='top', transform=ax1.transAxes)\n",
    "time_per_frame = 0.1     # You could change this to make the animation faster or slower\n",
    "\n",
    "def run_init():\n",
    "    line[0].set_data([], [])\n",
    "    line[1].set_data([], [])\n",
    "    line[2].set_data([], [])\n",
    "    return line,\n",
    "    \n",
    "def run(i):\n",
    "    wf = time_evolve(k, psi_0, time_per_frame*i)\n",
    "    wf_exact = exact_solution(a, x_exact, time_per_frame*i)\n",
    "    y1data = numpy.real(wf)\n",
    "    y2data = numpy.imag(wf)\n",
    "    y3data = numpy.conjugate(wf)*wf\n",
    "    \n",
    "    y1data_exact = numpy.real(wf_exact)\n",
    "    y2data_exact = numpy.imag(wf_exact)\n",
    "    y3data_exact = numpy.conjugate(wf_exact)*wf_exact\n",
    "\n",
    "    # update the data of the three line objects\n",
    "    line[0].set_data(x, y1data)\n",
    "    line[1].set_data(x, y2data)\n",
    "    line[2].set_data(x, y3data)\n",
    "    line[3].set_data(x_exact, y1data_exact)\n",
    "    line[4].set_data(x_exact, y2data_exact)\n",
    "    line[5].set_data(x_exact, y3data_exact)\n",
    "    #Display the current animation time\n",
    "    time_text.set_text('tau = %.2f' % (i*time_per_frame))\n",
    "    norm_text.set_text('norm = %.2f' % (dx*sum(numpy.conjugate(wf)*wf)))\n",
    "    return line, time_text, norm_text\n",
    "\n",
    "ani = animation.FuncAnimation(fig, run, init_func=run_init,\n",
    "                               frames=1000, interval=20, blit=True)\n",
    "    \n",
    "plt.show()"
   ]
  },
  {
   "cell_type": "markdown",
   "metadata": {},
   "source": []
  }
 ],
 "metadata": {
  "kernelspec": {
   "display_name": "Python 3",
   "language": "python",
   "name": "python3"
  },
  "language_info": {
   "codemirror_mode": {
    "name": "ipython",
    "version": 3
   },
   "file_extension": ".py",
   "mimetype": "text/x-python",
   "name": "python",
   "nbconvert_exporter": "python",
   "pygments_lexer": "ipython3",
   "version": "3.4.3"
  }
 },
 "nbformat": 4,
 "nbformat_minor": 1
}

{
 "cells": [
  {
   "cell_type": "markdown",
   "metadata": {},
   "source": [
    "# Physics 453: Spin Precession"
   ]
  },
  {
   "cell_type": "markdown",
   "metadata": {},
   "source": [
    "## Larmor (Spin) Precession\n",
    "In this notebook we will look at what happens to the spin of an electron when it is exposed to a uniform, constant magnetic field.  This will allow us to practice some concepts from Chapter 3 of Griffiths, such as performing a change of basis, working with orthonormal states, and diagonalizing Hamiltonians.\n",
    "\n",
    "The Hamiltonian for a magnetic dipole in a uniform magnetic field is\n",
    "$$H=-\\vec{\\mu}\\cdot \\vec{B}$$\n",
    "The magentic dipole of an electron is given by\n",
    "$$ \\vec{\\mu} = \\gamma \\vec{S}$$\n",
    "Where $\\gamma$ is the gyromagnetic ratio of the electron.  The precise value of $\\gamma$ is calculated with quantum field theory, and is approximately given by\n",
    "$$\\gamma \\approx 2\\left( 1 + \\frac{\\alpha}{2\\pi}\\right)$$\n",
    "where $\\alpha$ is the fine-structure constant, $\\alpha \\approx 1/137$.  The spin vector is given in terms of the Pauli matrices,\n",
    "$$ \\vec{S} = \\frac{\\hbar}{2}\\vec{\\sigma}$$\n",
    "Thus, the Hamiltonian for the spin of an electron in a magnetic field is\n",
    "$$ H = -\\gamma \\frac{\\hbar}{2}\\sum_i \\sigma_i B_i$$\n",
    "where $i=x,y,z$.\n",
    "\n",
    "In this notebook, assume that $\\hbar=1$ and $|B|=3T$.\n",
    "\n",
    "### References\n",
    "Larmor Precession, Griffiths, Chapter 4, page 178\n",
    "\n",
    "Changing Bases, Griffiths, Appendix A.4\n",
    "\n",
    "Pauli matrices, https://en.wikipedia.org/wiki/Pauli_matrices\n",
    "\n",
    "Scipy \"eigh\" function, https://docs.scipy.org/doc/numpy/reference/generated/numpy.linalg.eigh.html#numpy.linalg.eigh\n",
    "\n"
   ]
  },
  {
   "cell_type": "markdown",
   "metadata": {},
   "source": [
    "### Coding up the Hamiltonian\n",
    "Let's start by loading up the libraries we'll need, and then set the magnetic field strength equal to $|B|=3T$."
   ]
  },
  {
   "cell_type": "code",
   "execution_count": null,
   "metadata": {},
   "outputs": [],
   "source": [
    "%matplotlib notebook\n",
    "import matplotlib\n",
    "import matplotlib.pyplot as plt \n",
    "from matplotlib.widgets import Slider, Button, RadioButtons\n",
    "import numpy\n",
    "import numpy.linalg\n",
    "import math"
   ]
  },
  {
   "cell_type": "code",
   "execution_count": null,
   "metadata": {},
   "outputs": [],
   "source": [
    "B=3    #Magnetic field strength\n",
    "alpha = 1./137   # Fine structure constant\n",
    "g = 2*(1+alpha/(2*numpy.pi)) # gyromagnetic ratio\n",
    "hbar = 1   #Planck's constant"
   ]
  },
  {
   "cell_type": "markdown",
   "metadata": {},
   "source": [
    "#### Question 1\n",
    "Assume that the magnetic field vector lies in the y-z plane, and that it makes an angle of $\\theta$ with the z-axis.  Finish these three functions to return the Pauli matrices, the magnetic field vector, and the Hamiltonian. In order to check your work, make sure that the Hamiltonian calculated for $|B|=3T$ and $\\theta=\\pi/4$ is correct. (By whatever method you prefer, you don't need to hand this in.) "
   ]
  },
  {
   "cell_type": "code",
   "execution_count": null,
   "metadata": {},
   "outputs": [],
   "source": [
    "def pauli_matrices():    \n",
    "    sig_x = numpy.matrix([ [0,0], [0,0] ])  #Fill in the Pauli matrices\n",
    "    sig_y = numpy.matrix([ [0,0], [0,0] ])\n",
    "    sig_z = numpy.matrix([ [0,0], [0,0] ])\n",
    "    \n",
    "    sigmas = numpy.array([sig_x, sig_y, sig_z])\n",
    "    return sigmas\n",
    "\n",
    "def magnetic_field(theta, B):\n",
    "    return numpy.array([0, 0, 0])  #What are the components of the magnetic field?\n",
    "\n",
    "def Hamiltonian(theta, B):\n",
    "    sigmas = pauli_matrices()\n",
    "    B_vector = magnetic_field(theta, B)\n",
    "    H =   #Construct Hamiltonian, Lookup the Scipy function \"tensordot\" to do the dot product between B and sigmas\n",
    "    return H\n",
    "\n",
    "theta_check = numpy.pi / 4\n",
    "print(\"H= \",Hamiltonian(theta_check,B))"
   ]
  },
  {
   "cell_type": "markdown",
   "metadata": {},
   "source": [
    "## Diagonalizing the Hamiltonian\n",
    "The Pauli matrices are usually written in the $S_z$ basis, so the above Hamiltonian will not be diagonal if the magnetic field is not along the z axis. In order to find the eigen-energies and eigen-states for the electron in the magnetic field, we can use [Scipy's \"eigh\" function](https://docs.scipy.org/doc/numpy/reference/generated/numpy.linalg.eigh.html#numpy.linalg.eigh). \n",
    "#### Question 2\n",
    "Use \"eigh\" to find the energies and eigenstates for $\\theta=\\pi/3$ and $|B|=3T$.  The eigenstates are returned in a matrix, $\\Psi$, where each column is an eigenstate. The eigenstates should be orthonormal, so that $\\Psi^\\dagger \\Psi=I$.  Check that this is true."
   ]
  },
  {
   "cell_type": "code",
   "execution_count": null,
   "metadata": {},
   "outputs": [],
   "source": [
    "H = Hamiltonian(numpy.pi/3, B)\n",
    "(energies, eigenstates) = #Use the numpy.linalg.eigh function\n",
    "print(\"E=\", energies)\n",
    "print(\"Psi=\\n\", eigenstates)\n",
    "print(\"Psi.conj.T*Psi=\\n\", ) #Check that Psi^\\dagger\\Psi=I; see numpy.dot function"
   ]
  },
  {
   "cell_type": "markdown",
   "metadata": {},
   "source": [
    "Each eigenstate obeys the time independent Schrodinger equation. \n",
    "$$H\\psi_i=E_i\\psi_i$$\n",
    "In this equation $E$ is a scalar value.  We could write this equation for each eigenstate, but a more compact way to express that is as a matrix equation.\n",
    "$$ H\\Psi = E\\Psi$$\n",
    "Where now $E$ is a diagonal matrix with element $E(i,i)$ the energy of the $i$th eigenstate. Up above we showed that $\\Psi^\\dagger \\Psi=I$, which means that $\\Psi^\\dagger = \\Psi^{-1}$.  Therefore\n",
    "$$\\Psi^{-1}H\\Psi = \\Psi^{\\dagger}H\\Psi = E$$\n",
    "So $\\Psi$ is the transformation matrix that diagonalizes the Hamiltonian!\n",
    "#### Question 3\n",
    "Check that $\\Psi^{\\dagger}H\\Psi = E$ yields a diagonal matrix."
   ]
  },
  {
   "cell_type": "code",
   "execution_count": null,
   "metadata": {},
   "outputs": [],
   "source": [
    "print()  #Print out the diagonal matrix"
   ]
  },
  {
   "cell_type": "markdown",
   "metadata": {},
   "source": [
    "## Time Evolution of Probabilities\n",
    "Let's suppose that at $t=0$, the electron is measured to have $S_z=\\hbar/2$, so that it's state is $\\chi(0)=|\\uparrow>_z$. In the z-basis \n",
    "$$\\chi(0)_z = \\left( \\begin{array}{ccc}\n",
    "1 \\\\\n",
    "0  \\end{array} \\right)_z=1*|\\uparrow>_z+0*|\\downarrow>_z$$\n",
    "\n",
    "However, we could also write our states in the basis of the eigenvectors, where the spin-up state means the spin points along the direction of the magnetic field, where\n",
    "$$\\chi(0)_B = \\left( \\begin{array}{ccc}\n",
    "a \\\\\n",
    "b  \\end{array} \\right)_B =a*|\\uparrow>_B+b*|\\downarrow>_B$$\n",
    "and $a^2+b^2=1$.  \n",
    "\n",
    "How do we get from one basis to the other?  We transform the state with the same transformation matrix that we used for the Hamiltonian, the matrix of eigenvectors.\n",
    "$$ \\chi(0)_B = \\Psi^\\dagger \\chi(0)_z$$\n",
    "\n",
    "#### Question 4\n",
    "Given that $\\chi(0)=|\\uparrow>_z$, what is $\\chi(0)$ in the B basis if $\\theta=\\pi/5$? \n"
   ]
  },
  {
   "cell_type": "code",
   "execution_count": null,
   "metadata": {},
   "outputs": [],
   "source": [
    "H = Hamiltonian(numpy.pi/5, B)\n",
    "(energies, eigenstates) = numpy.linalg.eigh(H)\n",
    "psi_0_zbasis = numpy.matrix([[1],[0]])\n",
    "psi_0_Bbasis =           #What is \\chi(0)_B?\n",
    "print(\"chi(0)_z=\\n\",psi_0_zbasis)\n",
    "print(\"chi(0)_B=\\n\",psi_0_Bbasis)"
   ]
  },
  {
   "cell_type": "markdown",
   "metadata": {},
   "source": [
    "Now that we have the initial state in the B basis, the eigenstate basis, we can easily find the time evolution of the state. \n",
    "$$\\chi(t)_B = \\left( \\begin{array}{ccc}\n",
    "a*e^{-iE_\\uparrow t/\\hbar} \\\\\n",
    "b*e^{-iE_\\downarrow t/\\hbar}  \\end{array} \\right)_B =a*e^{-iE_\\uparrow t/\\hbar}|\\uparrow>_B+b*e^{-iE_\\downarrow t/\\hbar}|\\downarrow>_B$$\n",
    "and $a^2+b^2=1$.  "
   ]
  },
  {
   "cell_type": "markdown",
   "metadata": {},
   "source": [
    "#### Question 5\n",
    "Write a function to calculate $\\chi(t)_B$ from $\\chi(0)_B$, the eigen-energies, and the time.  Print out $\\chi(t=5)_B$ for $\\theta=\\pi/3$."
   ]
  },
  {
   "cell_type": "code",
   "execution_count": null,
   "metadata": {},
   "outputs": [],
   "source": [
    "H = Hamiltonian(numpy.pi/3, B)\n",
    "(energies, eigenstates) = numpy.linalg.eigh(H)\n",
    "psi_0_zbasis = numpy.matrix([[1],[0]])\n",
    "psi_0_Bbasis = # Same code from above\n",
    "\n",
    "def get_psi_t_Bbasis(energies, psi_0_Bbasis, time):\n",
    "    psi_t_Bbasis = numpy.matrix(numpy.zeros_like(psi_0_Bbasis))\n",
    "    for i in range(0, len(energies)):\n",
    "        psi_t_Bbasis[i,0] = #What is \\chi(t)_B?\n",
    "    return psi_t_Bbasis\n",
    "\n",
    "print(\"chi(t=5)_B=\\n\", get_psi_t_Bbasis(energies, psi_0_Bbasis, 5))"
   ]
  },
  {
   "cell_type": "markdown",
   "metadata": {},
   "source": [
    "The probability at time $t$ for measuring the electron to have spin up in the z-direction is\n",
    "$$ P(S_z=\\hbar/2, t) = |<\\chi(0)_B|\\chi(t)_B>|^2$$\n",
    "\n",
    "#### Question 6\n",
    "Make a plot of $P(S_z=\\hbar/2, t)$ for $t=0..3$ for $\\theta = \\pi/2, \\pi/4, \\pi/6$."
   ]
  },
  {
   "cell_type": "code",
   "execution_count": null,
   "metadata": {},
   "outputs": [],
   "source": [
    "t = numpy.arange(0,3,0.01)\n",
    "thetas = [numpy.pi/2, numpy.pi/4, numpy.pi/6]\n",
    "colors = ['blue','red','black']\n",
    "\n",
    "plt.figure()\n",
    "for k in range(0, len(thetas)):\n",
    "    theta = thetas[k]\n",
    "    (energies, eigenstates) = # get eigenstates\n",
    "    prob_sz_up = numpy.zeros_like(t)\n",
    "    psi_0_zbasis = numpy.matrix([[1],[0]])\n",
    "    psi_0_Bbasis = # get \\chi(0)_B\n",
    "    for i in range(0, len(t)):\n",
    "        #Fill in prob_sz_up\n",
    "    plt.plot(t, prob_sz_up, color=colors[k], lw=2, label=str(\"%.2f\" %theta))\n",
    "    \n",
    "\n",
    "plt.plot(t, prob_sz_up)\n",
    "plt.xlabel(\"t\")\n",
    "plt.ylabel(r\"$P(S_z=\\hbar/2)$\")\n",
    "plt.title(r\"Probability of Measuring $S_z=\\hbar/2$\")\n",
    "plt.legend()\n",
    "plt.ylim([0,1])\n",
    "plt.show()"
   ]
  },
  {
   "cell_type": "markdown",
   "metadata": {
    "collapsed": true
   },
   "source": [
    "#### Question 7\n",
    "Explain why the probability curves behave the way they do as a function of $\\theta$."
   ]
  },
  {
   "cell_type": "markdown",
   "metadata": {},
   "source": [
    "Write answer here"
   ]
  },
  {
   "cell_type": "code",
   "execution_count": null,
   "metadata": {},
   "outputs": [],
   "source": []
  }
 ],
 "metadata": {
  "anaconda-cloud": {},
  "kernelspec": {
   "display_name": "Python 3",
   "language": "python",
   "name": "python3"
  },
  "language_info": {
   "codemirror_mode": {
    "name": "ipython",
    "version": 3
   },
   "file_extension": ".py",
   "mimetype": "text/x-python",
   "name": "python",
   "nbconvert_exporter": "python",
   "pygments_lexer": "ipython3",
   "version": "3.6.0"
  }
 },
 "nbformat": 4,
 "nbformat_minor": 1
}

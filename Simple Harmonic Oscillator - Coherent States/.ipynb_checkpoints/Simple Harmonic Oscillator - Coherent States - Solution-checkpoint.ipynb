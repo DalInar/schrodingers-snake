{
 "cells": [
  {
   "cell_type": "markdown",
   "metadata": {},
   "source": [
    "### Phys 453: Quantum Mechanics - Coherent States of the Simple Harmonic Oscillator"
   ]
  },
  {
   "cell_type": "markdown",
   "metadata": {},
   "source": [
    "Now that you know how to contruct the stationary states of the Simple Haronic Oscillator, we're going to explore how these states evolve in time.  We'll begin by looking at how arbitrary superpositions evolve, but then we'll move on to the concept of **coherent states**.  \n",
    "\n",
    "As described in Problem 3.35 in Griffiths, a coherent state, $|\\alpha>$, is a special superposition of the energy eigenfunctions of the SHO that minimizes the uncertainty principle.  They are defined as *eigenfunctions of the lowering operator*.\n",
    "$$a_-|\\alpha>=\\alpha |\\alpha>$$\n",
    "Where $\\alpha$ can be any complex number.  \n",
    "\n",
    "Any arbitrary state of the SHO, $|\\psi>$, can be expressed as a superposition of the energy eigenstates, $|n>$.\n",
    "$$ |\\psi> = \\sum_{n=0}^\\infty c_n |n>$$\n",
    "\n",
    "From Problem 3.35 in Griffiths, we know that a coherent state, $|\\alpha>$, is simply a superposition state with very particular values of $c_n$.\n",
    "$$|\\alpha>=\\sum_{n=0}^\\infty c_n^{coherent}|n>$$\n",
    "$$c_n^{coherent} = \\frac{\\alpha^n}{\\sqrt{n!}}c_0^{coherent}$$\n",
    "$$c_0^{coherent} = exp(-|\\alpha|^2/2)$$\n",
    "\n",
    "What's not so obvious from the math is the most interesting property of coherent states: they are the quantum states that most closely resemble classical particles.  Visualizing and comparing the time evolution of coherent states with arbitrary states will make this distinction readily apparent.  This property makes coherent states a useful tool in many different areas of physics, like quantum optics and condensed matter field theory.\n",
    "\n"
   ]
  },
  {
   "cell_type": "markdown",
   "metadata": {},
   "source": [
    "#### SHO Energy Eigenstates Recap\n",
    "The wavefunctions and energies for the SHO energy eigenstates are\n",
    "$$\\psi_n(x) = \\frac{1}{\\sqrt{2^nn!}}\\left( \\frac{m\\omega}{\\pi \\hbar} \\right)^{1/4}e^{-\\frac{m\\omega x^2}{2\\hbar}}H_n\\left(\\sqrt{ \\frac{m \\omega}{\\hbar}}x \\right)$$\n",
    "$$E_n=\\hbar \\omega \\left( n+\\frac{1}{2}\\right) $$\n",
    "The full time dependent eigenstates are\n",
    "$$\\psi_n(x,t)=\\psi_n(x)exp(-iE_nt/\\hbar)$$"
   ]
  },
  {
   "cell_type": "markdown",
   "metadata": {},
   "source": [
    "#### Setup\n",
    "As always, we'll import the needed libraries first and set up a spacial grid to work on.  I'll also provide the functions to calculate the time-independent stationary states, $\\psi_n(x)$, since you did this in a previous notebook."
   ]
  },
  {
   "cell_type": "code",
   "execution_count": 1,
   "metadata": {},
   "outputs": [
    {
     "name": "stdout",
     "output_type": "stream",
     "text": [
      "Norm =  1.0\n"
     ]
    },
    {
     "data": {
      "image/png": "[encoded data removed]",
      "text/plain": [
       "<Figure size 432x288 with 1 Axes>"
      ]
     },
     "metadata": {},
     "output_type": "display_data"
    }
   ],
   "source": [
    "%matplotlib inline\n",
    "import matplotlib\n",
    "import matplotlib.pyplot as plt \n",
    "import numpy\n",
    "import numpy.polynomial.hermite as Herm\n",
    "import math\n",
    "\n",
    "m=1\n",
    "w=1\n",
    "hbar=1\n",
    "\n",
    "dx = 0.1\n",
    "x_max = 10\n",
    "x = numpy.arange(-x_max,x_max,dx)\n",
    "\n",
    "def norm(dx, f):\n",
    "    return numpy.dot(numpy.conjugate(f), f)*dx\n",
    "\n",
    "def energy_n(n):\n",
    "    return hbar*w*(n+0.5)\n",
    "\n",
    "def psi_n_x(n, x):\n",
    "    herm_arg = numpy.sqrt(m*w/hbar)*x\n",
    "    herm_coeffs = numpy.zeros(n+1)\n",
    "    herm_coeffs[n] = 1\n",
    "    prefactor = 1./numpy.sqrt(2.**n * math.factorial(n)) * (m*w/(numpy.pi*hbar))**(0.25)\n",
    "    psi = prefactor * numpy.exp(- herm_arg**2 / 2) * Herm.hermval(herm_arg, herm_coeffs)\n",
    "    return psi\n",
    "\n",
    "n=10\n",
    "psi = psi_n_x(n,x)\n",
    "prob = numpy.conjugate(psi)*psi\n",
    "print(\"Norm = \", dx*numpy.sum(prob))\n",
    "plt.plot(x, prob)\n",
    "plt.title(r'Probability Distribution for $\\psi_{10}(x)$')\n",
    "plt.xlabel('x')\n",
    "plt.ylabel(r'$|\\psi_{10}(x)|^2$')\n",
    "plt.show()"
   ]
  },
  {
   "cell_type": "markdown",
   "metadata": {},
   "source": [
    "#### Question 1\n",
    "Complete the function `psi_n_x_t(n,x,t)` so that it returns an array with the values of $\\psi_n(x,t)$.  Remember that you already have a function that gives you $\\psi_n(x)$ up above!"
   ]
  },
  {
   "cell_type": "code",
   "execution_count": 2,
   "metadata": {},
   "outputs": [],
   "source": [
    "def psi_n_x_t(n, x, t):\n",
    "    return psi_n_x(n, x)*numpy.exp(-1j * energy_n(n) * t / hbar)"
   ]
  },
  {
   "cell_type": "markdown",
   "metadata": {},
   "source": [
    "#### Question 2\n",
    "Now complete the function `wavefunction(cn,x,t)` so that it returns the superposition state for the given coefficients, $c_n$."
   ]
  },
  {
   "cell_type": "code",
   "execution_count": 3,
   "metadata": {},
   "outputs": [],
   "source": [
    "def wavefunction(cn, x, t):\n",
    "    \n",
    "    # First we check that the coefficients obey the rule that total probability = 1\n",
    "    total_probability = numpy.dot(numpy.conjugate(cn),cn)\n",
    "    if(not abs(total_probability - 1) < 1e-6):    \n",
    "        print(\"Error! Sum of the conefficients squared does not equal 1! Total Probability =\", total_probability)\n",
    "        return\n",
    "    \n",
    "    # Now we create a blank wavefunction.  We will add each eigenstate to it, weighted by the proper coefficients.\n",
    "    wf = numpy.zeros_like(x)\n",
    "    for n in range(0,len(cn)):\n",
    "        wf = wf + cn[n]*psi_n_x_t(n, x, t)   # This is the line you need to fix!\n",
    "        \n",
    "    return wf"
   ]
  },
  {
   "cell_type": "markdown",
   "metadata": {},
   "source": [
    "#### Question 3\n",
    "The below cell defines coefficients, $c_n$, corresponding to a single stationary state in the array `cn_arbitary`.  The cell after it uses the standard animation code to show the time evolution of the state.  Change the `cn_arbitary` array to define some arbitary superposition state and watch its time evolution too.  Below, describe how well you think either state represents a classical particle.  What are some properties you think define how a classical particle \"should\" behave?"
   ]
  },
  {
   "cell_type": "code",
   "execution_count": 4,
   "metadata": {},
   "outputs": [],
   "source": [
    "cn_arbitrary = numpy.array([0,1,0,0,0,0])\n",
    "\n",
    "#Normalize the coefficients\n",
    "cn_arbitrary = cn_arbitrary / numpy.sqrt(numpy.dot(numpy.conjugate(cn_arbitrary), cn_arbitrary))"
   ]
  },
  {
   "cell_type": "code",
   "execution_count": 5,
   "metadata": {},
   "outputs": [
    {
     "name": "stderr",
     "output_type": "stream",
     "text": [
      "Traceback (most recent call last):\n",
      "  File \"C:\\Users\\pakij\\AppData\\Local\\Continuum\\Anaconda3\\lib\\site-packages\\matplotlib\\cbook\\__init__.py\", line 388, in process\n",
      "    proxy(*args, **kwargs)\n",
      "  File \"C:\\Users\\pakij\\AppData\\Local\\Continuum\\Anaconda3\\lib\\site-packages\\matplotlib\\cbook\\__init__.py\", line 228, in __call__\n",
      "    return mtd(*args, **kwargs)\n",
      "  File \"C:\\Users\\pakij\\AppData\\Local\\Continuum\\Anaconda3\\lib\\site-packages\\matplotlib\\animation.py\", line 1026, in _start\n",
      "    self._init_draw()\n",
      "  File \"C:\\Users\\pakij\\AppData\\Local\\Continuum\\Anaconda3\\lib\\site-packages\\matplotlib\\animation.py\", line 1759, in _init_draw\n",
      "    a.set_animated(self._blit)\n",
      "AttributeError: 'list' object has no attribute 'set_animated'\n"
     ]
    },
    {
     "data": {
      "image/png": "[encoded data removed]",
      "text/plain": [
       "<Figure size 432x288 with 3 Axes>"
      ]
     },
     "metadata": {},
     "output_type": "display_data"
    }
   ],
   "source": [
    "import matplotlib.animation as animation\n",
    "  \n",
    "# create a figure with two subplots\n",
    "fig, (ax1, ax2, ax3) = plt.subplots(3,1)\n",
    "\n",
    "# intialize two line objects (one in each axes)\n",
    "line1, = ax1.plot([], [], lw=2)\n",
    "line2, = ax2.plot([], [], lw=2, color='g')\n",
    "line3, = ax3.plot([], [], lw=2, color='r')\n",
    "line = [line1, line2, line3]\n",
    "\n",
    "# the same axes initalizations as before (just now we do it for both of them)\n",
    "ax1.set_ylim(-1,1)\n",
    "ax1.set_xlim(-x_max, x_max)\n",
    "ax1.grid()\n",
    "ax1.set_ylabel(\"Re(Wavefunction)\")\n",
    "ax1.set_title(\"Evolution of Wavefunction and Probability Density in real space\")\n",
    "\n",
    "ax2.set_ylim(-1, 1)\n",
    "ax2.set_xlim(-x_max, x_max)\n",
    "ax2.grid()\n",
    "ax2.set_ylabel(\"Im(Wavefunction)\")\n",
    "\n",
    "ax3.set_ylim(0, 1)\n",
    "ax3.set_xlim(-x_max, x_max)\n",
    "ax3.grid()\n",
    "ax3.set_xlabel(\"x\")\n",
    "ax3.set_ylabel(\"Probability Density\")\n",
    "\n",
    "time_text = ax1.text(0.05, 0.95,'',horizontalalignment='left',verticalalignment='top', transform=ax1.transAxes)\n",
    "norm_text = ax1.text(0.05, 0.85,'',horizontalalignment='left',verticalalignment='top', transform=ax1.transAxes)\n",
    "time_per_frame = 0.01     # You could change this to make the animation faster or slower\n",
    "\n",
    "def run_init():\n",
    "    line[0].set_data([], [])\n",
    "    line[1].set_data([], [])\n",
    "    line[2].set_data([], [])\n",
    "    return line,\n",
    "    \n",
    "def run(i):\n",
    "    wf = wavefunction(cn_arbitrary, x, time_per_frame*i)\n",
    "    y1data = numpy.real(wf)\n",
    "    y2data = numpy.imag(wf)\n",
    "    y3data = numpy.conjugate(wf)*wf\n",
    "\n",
    "    # update the data of the three line objects\n",
    "    line[0].set_data(x, y1data)\n",
    "    line[1].set_data(x, y2data)\n",
    "    line[2].set_data(x, y3data)\n",
    "    #Display the current animation time\n",
    "    time_text.set_text('tau = %.2f' % (i*time_per_frame))\n",
    "    norm_text.set_text('norm = %.2f' % (norm(dx,wf)))\n",
    "    return line, time_text, norm_text\n",
    "\n",
    "ani = animation.FuncAnimation(fig, run, init_func=run_init,\n",
    "                               frames=1000, interval=20, blit=True)\n",
    "    \n",
    "plt.show()"
   ]
  },
  {
   "cell_type": "markdown",
   "metadata": {},
   "source": [
    "#### Write your answer to question 3 here\n",
    "\n",
    "Neither the eigenstates nor the general superpositions look like a classical particle, because they describe a particle that can be found in separate locations and the seems to move around sporatically.  A classical particle should be localized to a particular region, bounce back and forth in the well, and move without losing its shape. "
   ]
  },
  {
   "cell_type": "markdown",
   "metadata": {},
   "source": [
    "#### Question 4\n",
    "Now let's look at how coherent states behave.  Fill in `cn_coherent` with the appropriate values of $c_n$ for a coherent state.  For the eigenvalue, use $\\alpha=3$.  Note that since there are an infinite number of $c_n$ for a coherent state that are non-zero, we need to make a numerical approximation by imposing a cutoff, $n=0..n_{max}$.  The contributions of the high energy eigenstates are strongly surpressed, so $n_{max}$ shouldn't need to be too large to get a really good approximation of a true coherent state.  Start with $n_{max}=15$, and then move it up and down to see how the result changes.\n",
    "\n",
    "The cell afterwards uses `cn_coherent` to animate the time evolution of the coherent state. (Make sure to stop the first animation before starting the second!) Below the graphs, describe the behavior of the coherent state and contrast it with the arbitrary superpositions up above.  How does changing $n_{max}$ affect things?  Why do you think people describe coherent states as the \"most classical\" of quantum states?"
   ]
  },
  {
   "cell_type": "code",
   "execution_count": 6,
   "metadata": {},
   "outputs": [],
   "source": [
    "alpha = 3\n",
    "n_max = 10\n",
    "cn_coherent = numpy.zeros(n_max)\n",
    "for n in range(0, n_max):\n",
    "    cn_coherent[n] = alpha**n / math.sqrt(math.factorial(n))\n",
    "  \n",
    "#Normalize the coefficients\n",
    "cn_coherent = cn_coherent / math.sqrt(numpy.dot(numpy.conjugate(cn_coherent), cn_coherent))"
   ]
  },
  {
   "cell_type": "code",
   "execution_count": 7,
   "metadata": {},
   "outputs": [
    {
     "name": "stderr",
     "output_type": "stream",
     "text": [
      "Traceback (most recent call last):\n",
      "  File \"C:\\Users\\pakij\\AppData\\Local\\Continuum\\Anaconda3\\lib\\site-packages\\matplotlib\\cbook\\__init__.py\", line 388, in process\n",
      "    proxy(*args, **kwargs)\n",
      "  File \"C:\\Users\\pakij\\AppData\\Local\\Continuum\\Anaconda3\\lib\\site-packages\\matplotlib\\cbook\\__init__.py\", line 228, in __call__\n",
      "    return mtd(*args, **kwargs)\n",
      "  File \"C:\\Users\\pakij\\AppData\\Local\\Continuum\\Anaconda3\\lib\\site-packages\\matplotlib\\animation.py\", line 1026, in _start\n",
      "    self._init_draw()\n",
      "  File \"C:\\Users\\pakij\\AppData\\Local\\Continuum\\Anaconda3\\lib\\site-packages\\matplotlib\\animation.py\", line 1759, in _init_draw\n",
      "    a.set_animated(self._blit)\n",
      "AttributeError: 'list' object has no attribute 'set_animated'\n"
     ]
    },
    {
     "data": {
      "image/png": "[encoded data removed]",
      "text/plain": [
       "<Figure size 432x288 with 3 Axes>"
      ]
     },
     "metadata": {},
     "output_type": "display_data"
    }
   ],
   "source": [
    "# create a figure with two subplots\n",
    "fig1, (ax1, ax2, ax3) = plt.subplots(3,1)\n",
    "\n",
    "# intialize two line objects (one in each axes)\n",
    "line1, = ax1.plot([], [], lw=2)\n",
    "line2, = ax2.plot([], [], lw=2, color='g')\n",
    "line3, = ax3.plot([], [], lw=2, color='r')\n",
    "line = [line1, line2, line3]\n",
    "\n",
    "# the same axes initalizations as before (just now we do it for both of them)\n",
    "ax1.set_ylim(-1,1)\n",
    "ax1.set_xlim(-x_max, x_max)\n",
    "ax1.grid()\n",
    "ax1.set_ylabel(\"Re(Wavefunction)\")\n",
    "ax1.set_title(\"Evolution of Wavefunction and Probability Density in real space\")\n",
    "\n",
    "ax2.set_ylim(-1, 1)\n",
    "ax2.set_xlim(-x_max, x_max)\n",
    "ax2.grid()\n",
    "ax2.set_ylabel(\"Im(Wavefunction)\")\n",
    "\n",
    "ax3.set_ylim(0, 1)\n",
    "ax3.set_xlim(-x_max, x_max)\n",
    "ax3.grid()\n",
    "ax3.set_xlabel(\"x\")\n",
    "ax3.set_ylabel(\"Probability Density\")\n",
    "\n",
    "time_text = ax1.text(0.05, 0.95,'',horizontalalignment='left',verticalalignment='top', transform=ax1.transAxes)\n",
    "norm_text = ax1.text(0.05, 0.85,'',horizontalalignment='left',verticalalignment='top', transform=ax1.transAxes)\n",
    "time_per_frame = 0.01     # You could change this to make the animation faster or slower\n",
    "\n",
    "def run_init():\n",
    "    line[0].set_data([], [])\n",
    "    line[1].set_data([], [])\n",
    "    line[2].set_data([], [])\n",
    "    return line,\n",
    "    \n",
    "def run(i):\n",
    "    wf = wavefunction(cn_coherent, x, time_per_frame*i)\n",
    "    y1data = numpy.real(wf)\n",
    "    y2data = numpy.imag(wf)\n",
    "    y3data = numpy.conjugate(wf)*wf\n",
    "\n",
    "    # update the data of the three line objects\n",
    "    line[0].set_data(x, y1data)\n",
    "    line[1].set_data(x, y2data)\n",
    "    line[2].set_data(x, y3data)\n",
    "    #Display the current animation time\n",
    "    time_text.set_text('tau = %.2f' % (i*time_per_frame))\n",
    "    norm_text.set_text('norm = %.2f' % (norm(dx,wf)))\n",
    "    return line, time_text, norm_text\n",
    "\n",
    "ani = animation.FuncAnimation(fig1, run, init_func=run_init,\n",
    "                               frames=1000, interval=20, blit=True)\n",
    "    \n",
    "plt.show()"
   ]
  },
  {
   "cell_type": "markdown",
   "metadata": {},
   "source": [
    "#### Write your answer to question 4 here\n",
    "The coherent state is localized to one region and stays localized as it moves through space.  Its movement is also similar to a classical particle in that it smoothly bounces back and forth in the well.  Increasing $n_{max}$ makes the state smoother and less wiggly, and damps down the quantum oscillations in the probability distribution.  All of these characteristics give the quantum coherent states a more classical appearance that a general quantum state."
   ]
  },
  {
   "cell_type": "code",
   "execution_count": null,
   "metadata": {
    "collapsed": true
   },
   "outputs": [],
   "source": []
  }
 ],
 "metadata": {
  "anaconda-cloud": {},
  "kernelspec": {
   "display_name": "Python 3",
   "language": "python",
   "name": "python3"
  },
  "language_info": {
   "codemirror_mode": {
    "name": "ipython",
    "version": 3
   },
   "file_extension": ".py",
   "mimetype": "text/x-python",
   "name": "python",
   "nbconvert_exporter": "python",
   "pygments_lexer": "ipython3",
   "version": "3.6.0"
  }
 },
 "nbformat": 4,
 "nbformat_minor": 2
}
